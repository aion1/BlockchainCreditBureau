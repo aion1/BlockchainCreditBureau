{
 "cells": [
  {
   "cell_type": "code",
   "execution_count": 31,
   "metadata": {},
   "outputs": [],
   "source": [
    "import json\n",
    "from web3 import Web3\n",
    "import os\n",
    "import platform\n",
    "from getpass import getpass\n",
    "import random"
   ]
  },
  {
   "cell_type": "code",
   "execution_count": 32,
   "metadata": {},
   "outputs": [],
   "source": [
    "operating_system = platform.system()\n",
    "d = '/'\n",
    "if operating_system == 'Windows':\n",
    "    d = '\\\\'\n",
    "\n",
    "ganache_url = \"HTTP://127.0.0.1:7545\"\n",
    "web3 = Web3(Web3.HTTPProvider(ganache_url))\n",
    "\n",
    "# This is our main account that controls everything\n",
    "web3.eth.defaultAccount = web3.eth.accounts[0]"
   ]
  },
  {
   "cell_type": "code",
   "execution_count": 33,
   "metadata": {},
   "outputs": [],
   "source": [
    "def getContract(filename):\n",
    "    with open('..'+ d +'build'+ d +'contracts'+ d +filename) as contractFile:\n",
    "        contractJson=json.load(contractFile)\n",
    "        contractABI =contractJson['abi']\n",
    "        contractAdd=web3.toChecksumAddress(contractJson['networks']['5777']['address']) \n",
    "        return contractABI, contractAdd\n",
    "\n",
    "\n",
    "\n",
    "# Get the organization contract address\n",
    "organizationContractABI, organizationContractAdd = getContract('Organization.json')\t\n",
    "organizationContract = web3.eth.contract(address=organizationContractAdd, abi=organizationContractABI)\n",
    "\n",
    "#get the user contract address\n",
    "userContractABI,userContractAdd = getContract('User.json')\n",
    "userContract = web3.eth.contract(address=userContractAdd, abi=userContractABI)\n",
    "\n",
    "# Get the accounts contract address\n",
    "accountsContractABI,accountsContractAdd = getContract('Accounts.json')\n",
    "accountsConract = web3.eth.contract(address=accountsContractAdd, abi=accountsContractABI)\n",
    "\n",
    "loansContractABI, loansContractAddress= getContract('Loans.json')\n",
    "loansContract = web3.eth.contract(address=loansContractAddress, abi=loansContractABI)"
   ]
  },
  {
   "cell_type": "code",
   "execution_count": 34,
   "metadata": {
    "scrolled": true
   },
   "outputs": [
    {
     "data": {
      "text/plain": [
       "HexBytes('0x0eaac01f86e2c5b03e83378852f260ca5cdc5f0c0bbd73a19a944fd06a78b653')"
      ]
     },
     "execution_count": 34,
     "metadata": {},
     "output_type": "execute_result"
    }
   ],
   "source": [
    "# This should be changed to be a more robus way. We can give the loansContractAddress using the constructor\n",
    "# but this has problems when doing this in the 2_deploy_contracts.js\n",
    "userContract.functions.setLoansContractAddress(loansContractAddress).transact()\n",
    "organizationContract.functions.setLoansContractAddress(loansContractAddress).transact()\n",
    "loansContract.functions.setAccountsContractAddress(accountsContractAdd).transact()"
   ]
  },
  {
   "cell_type": "code",
   "execution_count": 35,
   "metadata": {},
   "outputs": [
    {
     "data": {
      "text/plain": [
       "HexBytes('0xf5cdfe93ef2fb9040145a1d3f5a30400759627b1a033183a4375fe01e2d6b9e2')"
      ]
     },
     "execution_count": 35,
     "metadata": {},
     "output_type": "execute_result"
    }
   ],
   "source": [
    "accountsConract.functions.add(web3.eth.accounts[1], False).transact()\n",
    "accountsConract.functions.add(web3.eth.accounts[2], False).transact()\n",
    "accountsConract.functions.add(web3.eth.accounts[5], True).transact()\n",
    "accountsConract.functions.add(web3.eth.accounts[6], True).transact()"
   ]
  },
  {
   "cell_type": "code",
   "execution_count": 36,
   "metadata": {},
   "outputs": [],
   "source": [
    "def deleteUser():\n",
    "    accountsConract.functions.deleteAccount(web3.eth.accounts[1]).transact()\n",
    "\n",
    "def createLoan(_loanie, _loaner, _amount, _organizationContract, _installmentsNum ,  _interest):\n",
    "    \n",
    "    transaction = _organizationContract.functions.createLoan(_loanie, _amount, _installmentsNum ,  _interest\n",
    "    ).buildTransaction({\n",
    "    'gas': 3000000,\n",
    "    'gasPrice': web3.toWei('1', 'gwei'),\n",
    "    'from': _loaner,\n",
    "    'nonce': web3.eth.getTransactionCount(_loaner)\n",
    "    }) \n",
    "    _privateKey = getpass(\"Enter the password of the organization: \")\n",
    "    signed_txn = web3.eth.account.signTransaction(transaction, private_key=_privateKey)\n",
    "    transaction_hash = web3.eth.sendRawTransaction(web3.toHex(signed_txn.rawTransaction))\n",
    "    \n",
    "    # _organizationContract.functions.createLoan(_loanie, _loaner, _amount).transact()\n",
    "    return True"
   ]
  },
  {
   "cell_type": "code",
   "execution_count": 99,
   "metadata": {},
   "outputs": [],
   "source": [
    "deleteUser()"
   ]
  },
  {
   "cell_type": "code",
   "execution_count": 37,
   "metadata": {},
   "outputs": [],
   "source": [
    "def getPendingLoans(_userContract, _loanieAddress, _privateKey):\n",
    "    transaction = _userContract.functions.getPendingLoans(\n",
    "    ).buildTransaction({\n",
    "    'gas': 300000,\n",
    "    'gasPrice': web3.toWei('1', 'gwei'),\n",
    "    'from': _loanieAddress,\n",
    "    'nonce': web3.eth.getTransactionCount(_loanieAddress)\n",
    "    }) \n",
    "    \n",
    "    signed_txn = web3.eth.account.signTransaction(transaction, private_key=_privateKey)\n",
    "    transaction_hash = web3.eth.sendRawTransaction(web3.toHex(signed_txn.rawTransaction))\n",
    "    receipt = web3.eth.getTransactionReceipt(transaction_hash)\n",
    "    rich_logs = _userContract.events.getAmounts().processReceipt(receipt)\n",
    "    event_values = rich_logs[0]['args'] # Dictionary\n",
    "    return event_values\n"
   ]
  },
  {
   "cell_type": "code",
   "execution_count": 38,
   "metadata": {},
   "outputs": [],
   "source": [
    "# Suppose bank wants to create a loan\n",
    "#loaner = input(\"Enter the loaner addrses: \")\n",
    "loaner = web3.eth.accounts[5]\n",
    "loaner\n",
    "### Check to see whether it is a user or organization address\n",
    "loanerIndex = accountsConract.functions.getIndex(loaner).call()"
   ]
  },
  {
   "cell_type": "code",
   "execution_count": 39,
   "metadata": {},
   "outputs": [],
   "source": [
    "#loanie = input(\"Enter the loanie address: \")\n",
    "loanie = web3.eth.accounts[2]\n",
    "loanie\n",
    "loanieIndex = accountsConract.functions.getIndex(loanie).call()"
   ]
  },
  {
   "cell_type": "markdown",
   "metadata": {},
   "source": [
    "## Get pending loans"
   ]
  },
  {
   "cell_type": "code",
   "execution_count": 40,
   "metadata": {
    "scrolled": false
   },
   "outputs": [],
   "source": [
    "# Get pending loans using 3 separate functions\n",
    "def getPendingLoansList(_accountIndex, _userContract, _accountsContract, _loanieAddress):\n",
    "    pendingLoans = [] # 'amount loanerAddress id'\n",
    "    if _accountIndex != -1:\n",
    "        loanieType = _accountsContract.functions.getType(_accountIndex).call()\n",
    "        if not loanieType:\n",
    "            privateKey = getpass(\"Enter your password: \")\n",
    "            values = getPendingLoans(_userContract, _loanieAddress, privateKey)\n",
    "            for i in range(len(values['_amounts'])):\n",
    "                string = ''\n",
    "                for key in values:\n",
    "                    string += str(values[key][i]) + ' '\n",
    "                pendingLoans.append(string)\n",
    "    else:\n",
    "        print(\"This account is not registered in our system.\")\n",
    "    return pendingLoans"
   ]
  },
  {
   "cell_type": "code",
   "execution_count": 45,
   "metadata": {},
   "outputs": [
    {
     "name": "stdout",
     "output_type": "stream",
     "text": [
      "Enter your password: ········\n"
     ]
    },
    {
     "data": {
      "text/plain": [
       "['345839 0xDE8608aBCe726cBdBC203e06D8c8594a4280A333 1590408654 15 9 ',\n",
       " '667614 0xDE8608aBCe726cBdBC203e06D8c8594a4280A333 1590408658 13 8 ',\n",
       " '508323 0xDE8608aBCe726cBdBC203e06D8c8594a4280A333 1590408659 8 13 ',\n",
       " '712511 0xDE8608aBCe726cBdBC203e06D8c8594a4280A333 1590408661 11 17 ']"
      ]
     },
     "execution_count": 45,
     "metadata": {},
     "output_type": "execute_result"
    }
   ],
   "source": [
    "getPendingLoansList(loanieIndex, userContract, accountsConract, loanie)"
   ]
  },
  {
   "cell_type": "markdown",
   "metadata": {},
   "source": [
    "## Confirm or reject loans"
   ]
  },
  {
   "cell_type": "code",
   "execution_count": 46,
   "metadata": {
    "scrolled": true
   },
   "outputs": [
    {
     "name": "stdout",
     "output_type": "stream",
     "text": [
      "Enter your password: ········\n",
      "Enter your loanie password: ········\n",
      "for id: 345839\n",
      "c/r?c\n",
      "for id: 667614\n",
      "c/r?c\n",
      "for id: 508323\n",
      "c/r?r\n",
      "for id: 712511\n",
      "c/r?r\n"
     ]
    }
   ],
   "source": [
    "# Confirm or reject loans\n",
    "pendingLoans = getPendingLoansList(loanieIndex, userContract, accountsConract, loanie)\n",
    "private_key = getpass('Enter your loanie password: ')\n",
    "for pendingLoan in pendingLoans:\n",
    "    print('for id: ' + pendingLoan.split(' ')[0])\n",
    "    loanId = pendingLoan.split(' ')[2]\n",
    "    choice = input('c/r?')\n",
    "    if choice == 'c':\n",
    "        transaction = userContract.functions.validateLoan(True,\n",
    "        int(loanId)).buildTransaction({\n",
    "        'gas': 1200000,\n",
    "        'gasPrice': web3.toWei('1', 'gwei'),\n",
    "        'from': loanie,\n",
    "        'nonce': web3.eth.getTransactionCount(loanie)\n",
    "        }) \n",
    "        signed_txn = web3.eth.account.signTransaction(transaction, private_key=private_key)\n",
    "        transaction_hash = web3.eth.sendRawTransaction(web3.toHex(signed_txn.rawTransaction))\n",
    "    elif choice == 'r':\n",
    "        transaction = userContract.functions.validateLoan(False,\n",
    "        int(loanId)).buildTransaction({\n",
    "        'gas': 300000,\n",
    "        'gasPrice': web3.toWei('1', 'gwei'),\n",
    "        'from': loanie,\n",
    "        'nonce': web3.eth.getTransactionCount(loanie)\n",
    "        }) \n",
    "        signed_txn = web3.eth.account.signTransaction(transaction, private_key=private_key)\n",
    "        transaction_hash = web3.eth.sendRawTransaction(web3.toHex(signed_txn.rawTransaction))\n",
    "    else:\n",
    "        print(\"Not recognized operation.\")"
   ]
  },
  {
   "cell_type": "markdown",
   "metadata": {},
   "source": [
    "# Create a new loan"
   ]
  },
  {
   "cell_type": "code",
   "execution_count": 44,
   "metadata": {
    "scrolled": false
   },
   "outputs": [
    {
     "name": "stdout",
     "output_type": "stream",
     "text": [
      "Enter the password of the organization: ········\n",
      "Loan created\n"
     ]
    }
   ],
   "source": [
    "loaner\n",
    "# Create a new loan\n",
    "if loanerIndex != -1:\n",
    "    loanerType = accountsConract.functions.getType(loanerIndex).call()\n",
    "    if loanerType:\n",
    "        # We will change this to inputs later\n",
    "        amount=random.randint(1000,1000000)\n",
    "        if amount%2!=0:\n",
    "            amount+=1\n",
    "        installmentsNum=random.randint(6,15)\n",
    "        interest=random.randint(5,35)\n",
    "        amount+=(amount*interest)//100\n",
    "        if createLoan(_loanie=web3.eth.accounts[2], _loaner=loaner, _amount=amount, _organizationContract=organizationContract, _installmentsNum=installmentsNum, _interest=interest):\n",
    "            print(\"Loan created\")\n",
    "else:\n",
    "    print(\"This account is not registered in our system.\")"
   ]
  },
  {
   "cell_type": "markdown",
   "metadata": {},
   "source": [
    "## Get user loans"
   ]
  },
  {
   "cell_type": "code",
   "execution_count": 47,
   "metadata": {},
   "outputs": [],
   "source": [
    "def getLoans(_userContract, _loanieAddress, _privateKey):\n",
    "    transaction = _userContract.functions. getMyLoans(\n",
    "    ).buildTransaction({\n",
    "    'gas': 70000,\n",
    "    'gasPrice': web3.toWei('1', 'gwei'),\n",
    "    'from': _loanieAddress,\n",
    "    'nonce': web3.eth.getTransactionCount(_loanieAddress)\n",
    "    }) \n",
    "    \n",
    "    signed_txn = web3.eth.account.signTransaction(transaction, private_key=_privateKey)\n",
    "    transaction_hash = web3.eth.sendRawTransaction(web3.toHex(signed_txn.rawTransaction))\n",
    "    receipt = web3.eth.getTransactionReceipt(transaction_hash)\n",
    "    rich_logs = _userContract.events.getAmounts().processReceipt(receipt)\n",
    "    event_values = rich_logs[0]['args'] # Dictionary\n",
    "    return event_values"
   ]
  },
  {
   "cell_type": "code",
   "execution_count": 48,
   "metadata": {},
   "outputs": [],
   "source": [
    "def getLoansList(_accountIndex, _userContract, _accountsContract, _loanieAddress):\n",
    "    loans = [] # 'amount loanerAddress id'\n",
    "    if _accountIndex != -1:\n",
    "        loanieType = _accountsContract.functions.getType(_accountIndex).call()\n",
    "        if not loanieType:\n",
    "            privateKey = getpass(\"Enter your password: \")\n",
    "            values = getLoans(_userContract, _loanieAddress, privateKey)\n",
    "            for i in range(len(values['_amounts'])):\n",
    "                string = ''\n",
    "                for key in values:\n",
    "                    string += str(values[key][i]) + ' '\n",
    "                loans.append(string)\n",
    "    else:\n",
    "        print(\"This account is not registered in our system.\")\n",
    "    return loans"
   ]
  },
  {
   "cell_type": "code",
   "execution_count": 49,
   "metadata": {
    "scrolled": false
   },
   "outputs": [
    {
     "name": "stdout",
     "output_type": "stream",
     "text": [
      "Enter your password: ········\n"
     ]
    },
    {
     "data": {
      "text/plain": [
       "['345839 0xDE8608aBCe726cBdBC203e06D8c8594a4280A333 1590408654 15 9 ',\n",
       " '667614 0xDE8608aBCe726cBdBC203e06D8c8594a4280A333 1590408658 13 8 ']"
      ]
     },
     "execution_count": 49,
     "metadata": {},
     "output_type": "execute_result"
    }
   ],
   "source": [
    "getLoansList(loanieIndex,userContract,accountsConract,loanie)"
   ]
  },
  {
   "cell_type": "code",
   "execution_count": 50,
   "metadata": {},
   "outputs": [],
   "source": [
    "def getInstallments(_loanContract, _loanieAddress, _privateKey):\n",
    "    myId = 1590408654\n",
    "    transaction = _loanContract.functions.getMyInstallments(myId\n",
    "    ).buildTransaction({\n",
    "    'gas': 300000,\n",
    "    'gasPrice': web3.toWei('1', 'gwei'),\n",
    "    'from': _loanieAddress,\n",
    "    'nonce': web3.eth.getTransactionCount(_loanieAddress)\n",
    "    }) \n",
    "    \n",
    "    signed_txn = web3.eth.account.signTransaction(transaction, private_key=_privateKey)\n",
    "    transaction_hash = web3.eth.sendRawTransaction(web3.toHex(signed_txn.rawTransaction))\n",
    "    receipt = web3.eth.getTransactionReceipt(transaction_hash)\n",
    "    rich_logs = _loanContract.events.getLoanInstallments().processReceipt(receipt)\n",
    "    event_values = rich_logs[0]['args'] # Dictionary\n",
    "    return event_values"
   ]
  },
  {
   "cell_type": "code",
   "execution_count": 51,
   "metadata": {},
   "outputs": [],
   "source": [
    "def getinstallmentsList(_accountIndex, _loanContract, _accountsContract, _loanieAddress):\n",
    "    pendingLoans = [] # 'amount loanerAddress id'\n",
    "    if _accountIndex != -1:\n",
    "        loanieType = _accountsContract.functions.getType(_accountIndex).call()\n",
    "        if not loanieType:\n",
    "            privateKey = getpass(\"Enter your password: \")\n",
    "            values = getInstallments(_loanContract, _loanieAddress, privateKey)\n",
    "            for i in range(len(values['_amount'])):\n",
    "                string = ''\n",
    "                for key in values:\n",
    "                    string += str(values[key][i]) + ' '\n",
    "                pendingLoans.append(string)\n",
    "    else:\n",
    "        print(\"This account is not registered in our system.\")\n",
    "    return pendingLoans"
   ]
  },
  {
   "cell_type": "code",
   "execution_count": 52,
   "metadata": {},
   "outputs": [
    {
     "name": "stdout",
     "output_type": "stream",
     "text": [
      "Enter your password: ········\n"
     ]
    },
    {
     "data": {
      "text/plain": [
       "['23055 1593000684 0 False ',\n",
       " '23055 1595592684 0 False ',\n",
       " '23055 1598184684 0 False ',\n",
       " '23055 1600776684 0 False ',\n",
       " '23055 1603368684 0 False ',\n",
       " '23055 1605960684 0 False ',\n",
       " '23055 1608552684 0 False ',\n",
       " '23055 1611144684 0 False ',\n",
       " '23055 1613736684 0 False ',\n",
       " '23055 1616328684 0 False ',\n",
       " '23055 1618920684 0 False ',\n",
       " '23055 1621512684 0 False ',\n",
       " '23055 1624104684 0 False ',\n",
       " '23055 1626696684 0 False ',\n",
       " '23069 1629288684 0 False ']"
      ]
     },
     "execution_count": 52,
     "metadata": {},
     "output_type": "execute_result"
    }
   ],
   "source": [
    "getinstallmentsList(loanieIndex,loansContract,accountsConract,loanie)"
   ]
  },
  {
   "cell_type": "code",
   "execution_count": 55,
   "metadata": {},
   "outputs": [],
   "source": [
    "# GetLoanerLoans"
   ]
  },
  {
   "cell_type": "code",
   "execution_count": 53,
   "metadata": {},
   "outputs": [],
   "source": [
    "def getLoanerLoans(_organizationContract, _loanerAddress, _privateKey):\n",
    "    transaction = _organizationContract.functions. getLoans( \n",
    "    ).buildTransaction({\n",
    "    'gas': 70000,\n",
    "    'gasPrice': web3.toWei('1', 'gwei'),\n",
    "    'from': _loanerAddress,\n",
    "    'nonce': web3.eth.getTransactionCount(_loanerAddress)\n",
    "    }) \n",
    "    \n",
    "    signed_txn = web3.eth.account.signTransaction(transaction, private_key=_privateKey)\n",
    "    transaction_hash = web3.eth.sendRawTransaction(web3.toHex(signed_txn.rawTransaction))\n",
    "    receipt = web3.eth.getTransactionReceipt(transaction_hash)\n",
    "    rich_logs = _organizationContract.events.getLoanerLoans().processReceipt(receipt)\n",
    "    event_values = rich_logs[0]['args'] # Dictionary\n",
    "    return event_values\n"
   ]
  },
  {
   "cell_type": "code",
   "execution_count": 54,
   "metadata": {},
   "outputs": [],
   "source": [
    "def getLoanerLoansList(_accountIndex,_organizationContract,_accountsContract, _loanerAddress):\n",
    "    loans = [] # 'amount loanerAddress id'\n",
    "    if _accountIndex != -1:\n",
    "        loanieType = _accountsContract.functions.getType(_accountIndex).call()\n",
    "        if loanieType:\n",
    "            privateKey = getpass(\"Enter your password: \")\n",
    "            values = getLoanerLoans(_organizationContract, _loanerAddress, privateKey)\n",
    "            for i in range(len(values['_amounts'])):\n",
    "                string = ''\n",
    "                for key in values:\n",
    "                    string += str(values[key][i]) + ' '\n",
    "                loans.append(string)\n",
    "    else:\n",
    "        print(\"This account is not registered in our system.\")\n",
    "    return loans"
   ]
  },
  {
   "cell_type": "code",
   "execution_count": 55,
   "metadata": {},
   "outputs": [
    {
     "name": "stdout",
     "output_type": "stream",
     "text": [
      "Enter your password: ········\n"
     ]
    },
    {
     "data": {
      "text/plain": [
       "['345839 0xDE8608aBCe726cBdBC203e06D8c8594a4280A333 1590408654 15 9 ',\n",
       " '667614 0xDE8608aBCe726cBdBC203e06D8c8594a4280A333 1590408658 13 8 ']"
      ]
     },
     "execution_count": 55,
     "metadata": {},
     "output_type": "execute_result"
    }
   ],
   "source": [
    "getLoanerLoansList(loanerIndex,organizationContract,accountsConract,loaner)"
   ]
  },
  {
   "cell_type": "code",
   "execution_count": null,
   "metadata": {},
   "outputs": [],
   "source": [
    "# get installment for the orgianization"
   ]
  },
  {
   "cell_type": "code",
   "execution_count": 56,
   "metadata": {},
   "outputs": [],
   "source": [
    "def getLoanerInstallmentsList(_accountIndex, _loanContract, _accountsContract, _loanerAddress):\n",
    "    pendingLoans = [] # 'amount loanerAddress id'\n",
    "    if _accountIndex != -1:\n",
    "        loanieType = _accountsContract.functions.getType(_accountIndex).call()\n",
    "        if loanieType:\n",
    "            privateKey = getpass(\"Enter your password: \")\n",
    "            values = getInstallments(_loanContract, _loanerAddress, privateKey)\n",
    "            for i in range(len(values['_amount'])):\n",
    "                string = ''\n",
    "                for key in values:\n",
    "                    string += str(values[key][i]) + ' '\n",
    "                pendingLoans.append(string)\n",
    "    else:\n",
    "        print(\"This account is not registered in our system.\")\n",
    "    return pendingLoans"
   ]
  },
  {
   "cell_type": "code",
   "execution_count": 57,
   "metadata": {},
   "outputs": [
    {
     "name": "stdout",
     "output_type": "stream",
     "text": [
      "Enter your password: ········\n"
     ]
    },
    {
     "data": {
      "text/plain": [
       "['23055 1593000684 0 False ',\n",
       " '23055 1595592684 0 False ',\n",
       " '23055 1598184684 0 False ',\n",
       " '23055 1600776684 0 False ',\n",
       " '23055 1603368684 0 False ',\n",
       " '23055 1605960684 0 False ',\n",
       " '23055 1608552684 0 False ',\n",
       " '23055 1611144684 0 False ',\n",
       " '23055 1613736684 0 False ',\n",
       " '23055 1616328684 0 False ',\n",
       " '23055 1618920684 0 False ',\n",
       " '23055 1621512684 0 False ',\n",
       " '23055 1624104684 0 False ',\n",
       " '23055 1626696684 0 False ',\n",
       " '23069 1629288684 0 False ']"
      ]
     },
     "execution_count": 57,
     "metadata": {},
     "output_type": "execute_result"
    }
   ],
   "source": [
    "getLoanerInstallmentsList(loanerIndex,loansContract,accountsConract,loaner)"
   ]
  },
  {
   "cell_type": "code",
   "execution_count": 169,
   "metadata": {},
   "outputs": [],
   "source": [
    "# Confirm paid installment"
   ]
  },
  {
   "cell_type": "code",
   "execution_count": 58,
   "metadata": {},
   "outputs": [],
   "source": [
    "def confirmInstallment (_loanerIndex,_loansContract,_organizationContract,_loaner,_accountsConract):\n",
    "    \n",
    "    installments = getLoanerInstallmentsList(_loanerIndex,_loansContract,_accountsConract,_loaner)\n",
    "    print(installments)\n",
    "    choice = input(\"enter the index of installment\")\n",
    "    if int(choice) >= len (installments):\n",
    "        print(\"wrong index\")\n",
    "        return\n",
    "    myid = 1590408654\n",
    "    transaction = _organizationContract.functions.confirmInstallment(int(choice),myid\n",
    "    ).buildTransaction({\n",
    "    'gas': 300000,\n",
    "    'gasPrice': web3.toWei('1', 'gwei'),\n",
    "    'from': _loaner,\n",
    "    'nonce': web3.eth.getTransactionCount(_loaner)\n",
    "    })    \n",
    "    privateKey = getpass(\"Enter your password: \")\n",
    "    signed_txn = web3.eth.account.signTransaction(transaction, private_key=privateKey)\n",
    "    transaction_hash = web3.eth.sendRawTransaction(web3.toHex(signed_txn.rawTransaction))\n",
    "    return\n",
    "    "
   ]
  },
  {
   "cell_type": "code",
   "execution_count": 60,
   "metadata": {},
   "outputs": [
    {
     "name": "stdout",
     "output_type": "stream",
     "text": [
      "Enter your password: ········\n",
      "['23055 1593000684 1590408753 True ', '23055 1595592684 0 False ', '23055 1598184684 0 False ', '23055 1600776684 0 False ', '23055 1603368684 0 False ', '23055 1605960684 0 False ', '23055 1608552684 0 False ', '23055 1611144684 0 False ', '23055 1613736684 0 False ', '23055 1616328684 0 False ', '23055 1618920684 0 False ', '23055 1621512684 0 False ', '23055 1624104684 0 False ', '23055 1626696684 0 False ', '23069 1629288684 0 False ']\n",
      "enter the index of installment100\n",
      "wrong index\n"
     ]
    }
   ],
   "source": [
    "confirmInstallment(loanerIndex,loansContract,organizationContract,loaner,accountsConract)"
   ]
  },
  {
   "cell_type": "code",
   "execution_count": null,
   "metadata": {},
   "outputs": [],
   "source": []
  }
 ],
 "metadata": {
  "kernelspec": {
   "display_name": "Python 3",
   "language": "python",
   "name": "python3"
  },
  "language_info": {
   "codemirror_mode": {
    "name": "ipython",
    "version": 3
   },
   "file_extension": ".py",
   "mimetype": "text/x-python",
   "name": "python",
   "nbconvert_exporter": "python",
   "pygments_lexer": "ipython3",
   "version": "3.7.4"
  }
 },
 "nbformat": 4,
 "nbformat_minor": 4
}
