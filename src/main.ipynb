{
 "cells": [
  {
   "cell_type": "code",
   "execution_count": 143,
   "metadata": {},
   "outputs": [],
   "source": [
    "import json\n",
    "from web3 import Web3\n",
    "import os\n",
    "import platform\n",
    "from getpass import getpass\n",
    "import random"
   ]
  },
  {
   "cell_type": "code",
   "execution_count": 144,
   "metadata": {},
   "outputs": [],
   "source": [
    "operating_system = platform.system()\n",
    "d = '/'\n",
    "if operating_system == 'Windows':\n",
    "    d = '\\\\'\n",
    "\n",
    "ganache_url = \"HTTP://127.0.0.1:7545\"\n",
    "web3 = Web3(Web3.HTTPProvider(ganache_url))\n",
    "\n",
    "# This is our main account that controls everything\n",
    "web3.eth.defaultAccount = web3.eth.accounts[0]"
   ]
  },
  {
   "cell_type": "code",
   "execution_count": 145,
   "metadata": {},
   "outputs": [
    {
     "data": {
      "text/plain": [
       "['0xb6ef75b96D856a6cE0C796be4a7ABfB81E5D600A',\n",
       " '0xa2D0B6dbCd04a789da44CCECA9d66B6dfc93A124',\n",
       " '0xEE4F5078d802207d68eE9668AE6b82FCFCF7e290',\n",
       " '0x9cbFF84198C1c3ed898C52Fbc0076Bf008476C4B',\n",
       " '0x18a31E094820e4C9C79a073A0927FA72635b18C7',\n",
       " '0xDED00A7f19D445B2c6D3ddFffbf78BB490771937',\n",
       " '0x37594b8C8aC1D94457C86e30dE793099CE659817',\n",
       " '0x6a1ab8E6bb7e9CC3463997FC7F38e3B3855282b5',\n",
       " '0xAfd3bB14ff7735B0D9792e5bcc9BB5e758a32ccB',\n",
       " '0x8b23fa43919cB11b9CDa04FA45B92aaA0A0Adcd8']"
      ]
     },
     "execution_count": 145,
     "metadata": {},
     "output_type": "execute_result"
    }
   ],
   "source": [
    "web3.eth.accounts"
   ]
  },
  {
   "cell_type": "code",
   "execution_count": 146,
   "metadata": {},
   "outputs": [],
   "source": [
    "def getContract(filename):\n",
    "    with open('..'+ d +'build'+ d +'contracts'+ d +filename) as contractFile:\n",
    "        contractJson=json.load(contractFile)\n",
    "        contractABI =contractJson['abi']\n",
    "        contractAdd=web3.toChecksumAddress(contractJson['networks']['5777']['address']) \n",
    "        return contractABI, contractAdd\n",
    "\n",
    "\n",
    "\n",
    "# Get the organization contract address\n",
    "organizationContractABI, organizationContractAdd = getContract('Organization.json')\t\n",
    "organizationContract = web3.eth.contract(address=organizationContractAdd, abi=organizationContractABI)\n",
    "\n",
    "#get the user contract address\n",
    "userContractABI,userContractAdd = getContract('User.json')\n",
    "userContract = web3.eth.contract(address=userContractAdd, abi=userContractABI)\n",
    "\n",
    "# Get the accounts contract address\n",
    "accountsContractABI,accountsContractAdd = getContract('Accounts.json')\n",
    "accountsConract = web3.eth.contract(address=accountsContractAdd, abi=accountsContractABI)\n",
    "\n",
    "loansContractABI, loansContractAddress= getContract('Loans.json')\n"
   ]
  },
  {
   "cell_type": "code",
   "execution_count": 147,
   "metadata": {},
   "outputs": [
    {
     "data": {
      "text/plain": [
       "HexBytes('0x1e6392a418c62c5292bcc0f5d7b5262a862e5d7040cda51dac5993b9fc83bd07')"
      ]
     },
     "execution_count": 147,
     "metadata": {},
     "output_type": "execute_result"
    },
    {
     "data": {
      "text/plain": [
       "HexBytes('0xedb695de5c7ff7c42f04259123c2508e0347e5627e9a52be7b7f5c0218ad13de')"
      ]
     },
     "execution_count": 147,
     "metadata": {},
     "output_type": "execute_result"
    }
   ],
   "source": [
    "# This should be changed to be a more robus way. We can give the loansContractAddress using the constructor\n",
    "# but this has problems when doing this in the 2_deploy_contracts.js\n",
    "userContract.functions.setLoansContractAddress(loansContractAddress).transact()\n",
    "organizationContract.functions.setLoansContractAddress(loansContractAddress).transact()"
   ]
  },
  {
   "cell_type": "code",
   "execution_count": 148,
   "metadata": {},
   "outputs": [
    {
     "data": {
      "text/plain": [
       "HexBytes('0x60457ad53fa0c7f3218920fd1e3997adbeacf21fa61d54389c85cdadc66831ad')"
      ]
     },
     "execution_count": 148,
     "metadata": {},
     "output_type": "execute_result"
    },
    {
     "data": {
      "text/plain": [
       "HexBytes('0x73edf025c4bc5181ecfcafd0bf295580deaa1f4f2be130904295e2f891d1aeb2')"
      ]
     },
     "execution_count": 148,
     "metadata": {},
     "output_type": "execute_result"
    },
    {
     "data": {
      "text/plain": [
       "HexBytes('0xe72958c362c98c0a3456307d8d6a3243c0512d47a96f6f544c7f94dac5602989')"
      ]
     },
     "execution_count": 148,
     "metadata": {},
     "output_type": "execute_result"
    },
    {
     "data": {
      "text/plain": [
       "HexBytes('0x09f88aa767c9118898a5a81134d4c4fe07bbc26da0d0e785e873a8276912f159')"
      ]
     },
     "execution_count": 148,
     "metadata": {},
     "output_type": "execute_result"
    }
   ],
   "source": [
    "accountsConract.functions.add(web3.eth.accounts[1], False).transact()\n",
    "accountsConract.functions.add(web3.eth.accounts[2], False).transact()\n",
    "accountsConract.functions.add(web3.eth.accounts[5], True).transact()\n",
    "accountsConract.functions.add(web3.eth.accounts[6], True).transact()"
   ]
  },
  {
   "cell_type": "code",
   "execution_count": 149,
   "metadata": {},
   "outputs": [],
   "source": [
    "def deleteUser():\n",
    "    accountsConract.functions.deleteAccount(web3.eth.accounts[1]).transact()\n",
    "\n",
    "def createLoan(_address,_loaner,_amount,_loansContractAddress):\n",
    "    check=organizationContract.functions.createLoan(_address,_loaner,_amount).transact()\n",
    "    return check"
   ]
  },
  {
   "cell_type": "code",
   "execution_count": 150,
   "metadata": {},
   "outputs": [],
   "source": [
    "deleteUser()"
   ]
  },
  {
   "cell_type": "code",
   "execution_count": null,
   "metadata": {},
   "outputs": [],
   "source": []
  },
  {
   "cell_type": "code",
   "execution_count": 151,
   "metadata": {},
   "outputs": [],
   "source": [
    "def getPendingLoans(_userContract, _loanieAddress):\n",
    "    transaction = _userContract.functions.getPendingLoans(\n",
    "    ).buildTransaction({\n",
    "    'gas': 70000,\n",
    "    'gasPrice': web3.toWei('1', 'gwei'),\n",
    "    'from': _loanieAddress,\n",
    "    'nonce': web3.eth.getTransactionCount(_loanieAddress)\n",
    "    }) \n",
    "    private_key = getpass('Enter your key: ')\n",
    "    signed_txn = web3.eth.account.signTransaction(transaction, private_key=private_key)\n",
    "    transaction_hash = web3.eth.sendRawTransaction(web3.toHex(signed_txn.rawTransaction))\n",
    "    receipt = web3.eth.getTransactionReceipt(transaction_hash)\n",
    "    rich_logs = _userContract.events.getAmounts().processReceipt(receipt)\n",
    "    event_values = rich_logs[0]['args'] # Dictionary\n",
    "    return event_values\n"
   ]
  },
  {
   "cell_type": "code",
   "execution_count": 165,
   "metadata": {},
   "outputs": [
    {
     "name": "stdout",
     "output_type": "stream",
     "text": [
      "Enter the addrses: 0x37594b8C8aC1D94457C86e30dE793099CE659817\n"
     ]
    }
   ],
   "source": [
    "# Suppose bank wants to create a loan\n",
    "loanieAddress = input(\"Enter the addrses: \")\n",
    "\n",
    "### Check to see whether it is a user or organization address\n",
    "index = accountsConract.functions.getIndex(loanieAddress).call()"
   ]
  },
  {
   "cell_type": "code",
   "execution_count": 161,
   "metadata": {},
   "outputs": [
    {
     "data": {
      "text/plain": [
       "1"
      ]
     },
     "execution_count": 161,
     "metadata": {},
     "output_type": "execute_result"
    }
   ],
   "source": [
    "index"
   ]
  },
  {
   "cell_type": "code",
   "execution_count": 162,
   "metadata": {
    "scrolled": false
   },
   "outputs": [
    {
     "name": "stdout",
     "output_type": "stream",
     "text": [
      "Enter your key: ········\n",
      "1603 0x37594b8C8aC1D94457C86e30dE793099CE659817 1588773649 \n",
      "53772 0xDED00A7f19D445B2c6D3ddFffbf78BB490771937 1588773689 \n",
      "99000 0xDED00A7f19D445B2c6D3ddFffbf78BB490771937 1588773697 \n"
     ]
    }
   ],
   "source": [
    "# Get pending loans\n",
    "pendingLoans = [] # 'amount loanerAddress id'\n",
    "if index != -1:\n",
    "    loanieType = accountsConract.functions.getType(index).call()\n",
    "    if not loanieType:\n",
    "        #res = organizationContract.functions.createLoan(loanieAddress).call()\n",
    "        values = getPendingLoans(userContract, loanieAddress)\n",
    "        for i in range(len(values['_amounts'])):\n",
    "            string = ''\n",
    "            for key in values:\n",
    "                string += str(values[key][i]) + ' '\n",
    "            print(string)\n",
    "            pendingLoans.append(string)\n",
    "            \n",
    "else:\n",
    "    print(\"This account is not registered in our system.\")"
   ]
  },
  {
   "cell_type": "code",
   "execution_count": 164,
   "metadata": {},
   "outputs": [
    {
     "name": "stdout",
     "output_type": "stream",
     "text": [
      "Enter your key: ········\n",
      "for address: 0x37594b8C8aC1D94457C86e30dE793099CE659817\n",
      "c/r?r\n",
      "for address: 0xDED00A7f19D445B2c6D3ddFffbf78BB490771937\n",
      "c/r?r\n",
      "for address: 0xDED00A7f19D445B2c6D3ddFffbf78BB490771937\n",
      "c/r?r\n"
     ]
    }
   ],
   "source": [
    "# Confirm or reject loans\n",
    "private_key = getpass('Enter your key: ')\n",
    "for pendingLoan in pendingLoans:\n",
    "    print('for address: ' + pendingLoan.split(' ')[1])\n",
    "    loanId = pendingLoan.split(' ')[2]\n",
    "    choice = input('c/r?')\n",
    "    if choice == 'c':\n",
    "        transaction = userContract.functions.validateLoan(True,\n",
    "        int(loanId)).buildTransaction({\n",
    "        'gas': 70000,\n",
    "        'gasPrice': web3.toWei('1', 'gwei'),\n",
    "        'from': loanieAddress,\n",
    "        'nonce': web3.eth.getTransactionCount(loanieAddress)\n",
    "        }) \n",
    "        signed_txn = web3.eth.account.signTransaction(transaction, private_key=private_key)\n",
    "        transaction_hash = web3.eth.sendRawTransaction(web3.toHex(signed_txn.rawTransaction))\n",
    "    elif choice == 'r':\n",
    "        transaction = userContract.functions.validateLoan(False,\n",
    "        int(loanId)).buildTransaction({\n",
    "        'gas': 70000,\n",
    "        'gasPrice': web3.toWei('1', 'gwei'),\n",
    "        'from': loanieAddress,\n",
    "        'nonce': web3.eth.getTransactionCount(loanieAddress)\n",
    "        }) \n",
    "        signed_txn = web3.eth.account.signTransaction(transaction, private_key=private_key)\n",
    "        transaction_hash = web3.eth.sendRawTransaction(web3.toHex(signed_txn.rawTransaction))"
   ]
  },
  {
   "cell_type": "code",
   "execution_count": 159,
   "metadata": {},
   "outputs": [
    {
     "name": "stdout",
     "output_type": "stream",
     "text": [
      "Loan created\n"
     ]
    }
   ],
   "source": [
    "# Create a new loan\n",
    "if index != -1:\n",
    "    loanieType = accountsConract.functions.getType(index).call()\n",
    "    if  loanieType:\n",
    "        if createLoan(web3.eth.accounts[2],loanieAddress,random.randint(1,100000),loansContractAddress):\n",
    "            print(\"Loan created\")\n",
    "else:\n",
    "    print(\"This account is not registered in our system.\")"
   ]
  },
  {
   "cell_type": "code",
   "execution_count": null,
   "metadata": {},
   "outputs": [],
   "source": []
  },
  {
   "cell_type": "code",
   "execution_count": null,
   "metadata": {},
   "outputs": [],
   "source": []
  }
 ],
 "metadata": {
  "kernelspec": {
   "display_name": "Python 3.8.1 64-bit",
   "language": "python",
   "name": "python38164bit5736db31512345ee960d5073d473fb78"
  },
  "language_info": {
   "codemirror_mode": {
    "name": "ipython",
    "version": 3
   },
   "file_extension": ".py",
   "mimetype": "text/x-python",
   "name": "python",
   "nbconvert_exporter": "python",
   "pygments_lexer": "ipython3",
   "version": "3.8.2"
  }
 },
 "nbformat": 4,
 "nbformat_minor": 4
}
