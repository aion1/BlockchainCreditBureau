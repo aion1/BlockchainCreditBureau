{
 "cells": [
  {
   "cell_type": "code",
   "execution_count": 1,
   "metadata": {},
   "outputs": [],
   "source": [
    "import json\n",
    "from web3 import Web3\n",
    "import os\n",
    "import platform\n",
    "from getpass import getpass\n",
    "import random\n",
    "from CreditHistorySite.settings import BASE_DIR"
   ]
  },
  {
   "cell_type": "code",
   "execution_count": 2,
   "metadata": {},
   "outputs": [],
   "source": [
    "operating_system = platform.system()\n",
    "d = '/'\n",
    "if operating_system == 'Windows':\n",
    "    d = '\\\\'\n",
    "\n",
    "ganache_url = \"HTTP://127.0.0.1:7545\"\n",
    "web3 = Web3(Web3.HTTPProvider(ganache_url))\n",
    "\n",
    "# This is our main account that controls everything\n",
    "web3.eth.defaultAccount = web3.eth.accounts[0]"
   ]
  },
  {
   "cell_type": "code",
   "execution_count": 3,
   "metadata": {},
   "outputs": [],
   "source": [
    "def getContract(filename):\n",
    "    with open(os.path.join(BASE_DIR, ('Solidity' + d + 'build' + d + 'contracts' + d + filename))) as contractFile:\n",
    "        contractJson=json.load(contractFile)\n",
    "        contractABI =contractJson['abi']\n",
    "        contractAdd=web3.toChecksumAddress(contractJson['networks']['5777']['address']) \n",
    "        return contractABI, contractAdd\n",
    "\n",
    "\n",
    "\n",
    "# Get the organization contract address\n",
    "organizationContractABI, organizationContractAdd = getContract('Organization.json')\t\n",
    "organizationContract = web3.eth.contract(address=organizationContractAdd, abi=organizationContractABI)\n",
    "\n",
    "#get the user contract address\n",
    "userContractABI,userContractAdd = getContract('User.json')\n",
    "userContract = web3.eth.contract(address=userContractAdd, abi=userContractABI)\n",
    "\n",
    "# Get the accounts contract address\n",
    "accountsContractABI,accountsContractAdd = getContract('Accounts.json')\n",
    "accountsConract = web3.eth.contract(address=accountsContractAdd, abi=accountsContractABI)\n",
    "\n",
    "loansContractABI, loansContractAddress= getContract('Loans.json')\n",
    "loansContract = web3.eth.contract(address=loansContractAddress, abi=loansContractABI)"
   ]
  },
  {
   "cell_type": "code",
   "execution_count": 4,
   "metadata": {
    "scrolled": true
   },
   "outputs": [
    {
     "data": {
      "text/plain": "HexBytes('0x9748ba42a48d6f491b215748ae30de1e5ddb7d41ab4dce5c51bb76c950038097')"
     },
     "execution_count": 4,
     "metadata": {},
     "output_type": "execute_result"
    },
    {
     "data": {
      "text/plain": "HexBytes('0x15ea59d3495ae531f61051ff217fa2ade708038ddb310abeda6d5a73a04e8042')"
     },
     "execution_count": 4,
     "metadata": {},
     "output_type": "execute_result"
    },
    {
     "data": {
      "text/plain": "HexBytes('0x0a89b7f33b7546b379ec3650c0469f6bf863f66317109f09925bd955634d4d3d')"
     },
     "execution_count": 4,
     "metadata": {},
     "output_type": "execute_result"
    }
   ],
   "source": [
    "# This should be changed to be a more robus way. We can give the loansContractAddress using the constructor\n",
    "# but this has problems when doing this in the 2_deploy_contracts.js\n",
    "userContract.functions.setLoansContractAddress(loansContractAddress).transact()\n",
    "organizationContract.functions.setLoansContractAddress(loansContractAddress).transact()\n",
    "loansContract.functions.setAccountsContractAddress(accountsContractAdd).transact()"
   ]
  },
  {
   "cell_type": "code",
   "execution_count": 5,
   "metadata": {},
   "outputs": [
    {
     "data": {
      "text/plain": "HexBytes('0x625d582b7f026e3b592c4560ec402a3a3477feae59f8a7a617d1194314a1d3f8')"
     },
     "execution_count": 5,
     "metadata": {},
     "output_type": "execute_result"
    },
    {
     "data": {
      "text/plain": "HexBytes('0x34840eec06245bc98e2ca75d25e397d5c79959aab02204aef0d1b4b676e7c4b8')"
     },
     "execution_count": 5,
     "metadata": {},
     "output_type": "execute_result"
    },
    {
     "data": {
      "text/plain": "HexBytes('0x9ab185562243fc16cfa06a57be165aaed302e2c2844a80e22a9614fae25e07b5')"
     },
     "execution_count": 5,
     "metadata": {},
     "output_type": "execute_result"
    },
    {
     "data": {
      "text/plain": "HexBytes('0x58e3397559ce58dbfe250d762ac4a2579d33450558b6845d3a1a0554a029914f')"
     },
     "execution_count": 5,
     "metadata": {},
     "output_type": "execute_result"
    }
   ],
   "source": [
    "accountsConract.functions.add(web3.eth.accounts[1], False).transact()\n",
    "accountsConract.functions.add(web3.eth.accounts[2], False).transact()\n",
    "accountsConract.functions.add(web3.eth.accounts[5], True).transact()\n",
    "accountsConract.functions.add(web3.eth.accounts[6], True).transact()"
   ]
  },
  {
   "cell_type": "code",
   "execution_count": 6,
   "metadata": {},
   "outputs": [],
   "source": [
    "def deleteUser():\n",
    "    accountsConract.functions.deleteAccount(web3.eth.accounts[1]).transact()\n",
    "\n",
    "def createLoan(_loanie, _loaner, _amount, _organizationContract, _installmentsNum ,  _interest):\n",
    "    \n",
    "    transaction = _organizationContract.functions.createLoan(_loanie, _amount, _installmentsNum ,  _interest\n",
    "    ).buildTransaction({\n",
    "    'gas': 3000000,\n",
    "    'gasPrice': web3.toWei('1', 'gwei'),\n",
    "    'from': _loaner,\n",
    "    'nonce': web3.eth.getTransactionCount(_loaner)\n",
    "    }) \n",
    "    _privateKey = getpass(\"Enter the password of the organization: \")\n",
    "    signed_txn = web3.eth.account.signTransaction(transaction, private_key=_privateKey)\n",
    "    transaction_hash = web3.eth.sendRawTransaction(web3.toHex(signed_txn.rawTransaction))\n",
    "    \n",
    "    # _organizationContract.functions.createLoan(_loanie, _loaner, _amount).transact()\n",
    "    return True"
   ]
  },
  {
   "cell_type": "code",
   "execution_count": 99,
   "metadata": {},
   "outputs": [],
   "source": [
    "deleteUser()"
   ]
  },
  {
   "cell_type": "code",
   "execution_count": 7,
   "metadata": {},
   "outputs": [],
   "source": [
    "def getPendingLoans(_userContract, _loanieAddress, _privateKey):\n",
    "    transaction = _userContract.functions.getPendingLoans(\n",
    "    ).buildTransaction({\n",
    "    'gas': 300000,\n",
    "    'gasPrice': web3.toWei('1', 'gwei'),\n",
    "    'from': _loanieAddress,\n",
    "    'nonce': web3.eth.getTransactionCount(_loanieAddress)\n",
    "    }) \n",
    "    \n",
    "    signed_txn = web3.eth.account.signTransaction(transaction, private_key=_privateKey)\n",
    "    transaction_hash = web3.eth.sendRawTransaction(web3.toHex(signed_txn.rawTransaction))\n",
    "    receipt = web3.eth.getTransactionReceipt(transaction_hash)\n",
    "    rich_logs = _userContract.events.getAmounts().processReceipt(receipt)\n",
    "    event_values = rich_logs[0]['args'] # Dictionary\n",
    "    return event_values\n"
   ]
  },
  {
   "cell_type": "code",
   "execution_count": 8,
   "metadata": {},
   "outputs": [
    {
     "data": {
      "text/plain": "'0xDED00A7f19D445B2c6D3ddFffbf78BB490771937'"
     },
     "execution_count": 8,
     "metadata": {},
     "output_type": "execute_result"
    }
   ],
   "source": [
    "# Suppose bank wants to create a loan\n",
    "#loaner = input(\"Enter the loaner addrses: \")\n",
    "loaner = web3.eth.accounts[5]\n",
    "loaner\n",
    "### Check to see whether it is a user or organization address\n",
    "loanerIndex = accountsConract.functions.getIndex(loaner).call()"
   ]
  },
  {
   "cell_type": "code",
   "execution_count": 9,
   "metadata": {},
   "outputs": [
    {
     "data": {
      "text/plain": "'0xEE4F5078d802207d68eE9668AE6b82FCFCF7e290'"
     },
     "execution_count": 9,
     "metadata": {},
     "output_type": "execute_result"
    }
   ],
   "source": [
    "#loanie = input(\"Enter the loanie address: \")\n",
    "loanie = web3.eth.accounts[2]\n",
    "loanie\n",
    "loanieIndex = accountsConract.functions.getIndex(loanie).call()"
   ]
  },
  {
   "cell_type": "markdown",
   "metadata": {},
   "source": [
    "## Get pending loans"
   ]
  },
  {
   "cell_type": "code",
   "execution_count": 10,
   "metadata": {
    "scrolled": false
   },
   "outputs": [],
   "source": [
    "# Get pending loans using 3 separate functions\n",
    "def getPendingLoansList(_accountIndex, _userContract, _accountsContract, _loanieAddress):\n",
    "    pendingLoans = [] # 'amount loanerAddress id'\n",
    "    if _accountIndex != -1:\n",
    "        loanieType = _accountsContract.functions.getType(_accountIndex).call()\n",
    "        if not loanieType:\n",
    "            privateKey = getpass(\"Enter your password: \")\n",
    "            values = getPendingLoans(_userContract, _loanieAddress, privateKey)\n",
    "            for i in range(len(values['_amounts'])):\n",
    "                string = ''\n",
    "                for key in values:\n",
    "                    string += str(values[key][i]) + ' '\n",
    "                pendingLoans.append(string)\n",
    "    else:\n",
    "        print(\"This account is not registered in our system.\")\n",
    "    return pendingLoans"
   ]
  },
  {
   "cell_type": "code",
   "execution_count": 12,
   "metadata": {},
   "outputs": [
    {
     "data": {
      "text/plain": "['877994 0xDED00A7f19D445B2c6D3ddFffbf78BB490771937 1591053381 11 30 ']"
     },
     "execution_count": 12,
     "metadata": {},
     "output_type": "execute_result"
    }
   ],
   "source": [
    "getPendingLoansList(loanieIndex, userContract, accountsConract, loanie)"
   ]
  },
  {
   "cell_type": "markdown",
   "metadata": {},
   "source": [
    "## Confirm or reject loans"
   ]
  },
  {
   "cell_type": "code",
   "execution_count": 13,
   "metadata": {
    "scrolled": true
   },
   "outputs": [
    {
     "name": "stdout",
     "output_type": "stream",
     "text": [
      "for id: 877994\n"
     ]
    }
   ],
   "source": [
    "# Confirm or reject loans\n",
    "pendingLoans = getPendingLoansList(loanieIndex, userContract, accountsConract, loanie)\n",
    "private_key = getpass('Enter your loanie password: ')\n",
    "for pendingLoan in pendingLoans:\n",
    "    print('for id: ' + pendingLoan.split(' ')[0])\n",
    "    loanId = pendingLoan.split(' ')[2]\n",
    "    choice = input('c/r?')\n",
    "    if choice == 'c':\n",
    "        transaction = userContract.functions.validateLoan(True,\n",
    "        int(loanId)).buildTransaction({\n",
    "        'gas': 1200000,\n",
    "        'gasPrice': web3.toWei('1', 'gwei'),\n",
    "        'from': loanie,\n",
    "        'nonce': web3.eth.getTransactionCount(loanie)\n",
    "        }) \n",
    "        signed_txn = web3.eth.account.signTransaction(transaction, private_key=private_key)\n",
    "        transaction_hash = web3.eth.sendRawTransaction(web3.toHex(signed_txn.rawTransaction))\n",
    "    elif choice == 'r':\n",
    "        transaction = userContract.functions.validateLoan(False,\n",
    "        int(loanId)).buildTransaction({\n",
    "        'gas': 300000,\n",
    "        'gasPrice': web3.toWei('1', 'gwei'),\n",
    "        'from': loanie,\n",
    "        'nonce': web3.eth.getTransactionCount(loanie)\n",
    "        }) \n",
    "        signed_txn = web3.eth.account.signTransaction(transaction, private_key=private_key)\n",
    "        transaction_hash = web3.eth.sendRawTransaction(web3.toHex(signed_txn.rawTransaction))\n",
    "    else:\n",
    "        print(\"Not recognized operation.\")"
   ]
  },
  {
   "cell_type": "markdown",
   "metadata": {},
   "source": [
    "# Create a new loan"
   ]
  },
  {
   "cell_type": "code",
   "execution_count": 11,
   "metadata": {
    "scrolled": false
   },
   "outputs": [
    {
     "data": {
      "text/plain": "'0xDED00A7f19D445B2c6D3ddFffbf78BB490771937'"
     },
     "execution_count": 11,
     "metadata": {},
     "output_type": "execute_result"
    },
    {
     "name": "stdout",
     "output_type": "stream",
     "text": [
      "Loan created\n"
     ]
    }
   ],
   "source": [
    "loaner\n",
    "# Create a new loan\n",
    "if loanerIndex != -1:\n",
    "    loanerType = accountsConract.functions.getType(loanerIndex).call()\n",
    "    if loanerType:\n",
    "        # We will change this to inputs later\n",
    "        amount=random.randint(1000,1000000)\n",
    "        if amount%2!=0:\n",
    "            amount+=1\n",
    "        installmentsNum=random.randint(6,15)\n",
    "        interest=random.randint(5,35)\n",
    "        amount+=(amount*interest)//100\n",
    "        if createLoan(_loanie=web3.eth.accounts[2], _loaner=loaner, _amount=amount, _organizationContract=organizationContract, _installmentsNum=installmentsNum, _interest=interest):\n",
    "            print(\"Loan created\")\n",
    "else:\n",
    "    print(\"This account is not registered in our system.\")"
   ]
  },
  {
   "cell_type": "markdown",
   "metadata": {},
   "source": [
    "## Get user loans"
   ]
  },
  {
   "cell_type": "code",
   "execution_count": 56,
   "metadata": {},
   "outputs": [],
   "source": [
    "def getLoans(_userContract, _loanieAddress, _privateKey):\n",
    "    transaction = _userContract.functions. getMyLoans(\n",
    "    ).buildTransaction({\n",
    "    'gas': 70000,\n",
    "    'gasPrice': web3.toWei('1', 'gwei'),\n",
    "    'from': _loanieAddress,\n",
    "    'nonce': web3.eth.getTransactionCount(_loanieAddress)\n",
    "    }) \n",
    "    \n",
    "    signed_txn = web3.eth.account.signTransaction(transaction, private_key=_privateKey)\n",
    "    transaction_hash = web3.eth.sendRawTransaction(web3.toHex(signed_txn.rawTransaction))\n",
    "    receipt = web3.eth.getTransactionReceipt(transaction_hash)\n",
    "    rich_logs = _userContract.events.getAmounts().processReceipt(receipt)\n",
    "    event_values = rich_logs[0]['args'] # Dictionary\n",
    "    return event_values"
   ]
  },
  {
   "cell_type": "code",
   "execution_count": 57,
   "metadata": {},
   "outputs": [],
   "source": [
    "def getLoansList(_accountIndex, _userContract, _accountsContract, _loanieAddress):\n",
    "    loans = [] # 'amount loanerAddress id'\n",
    "    if _accountIndex != -1:\n",
    "        loanieType = _accountsContract.functions.getType(_accountIndex).call()\n",
    "        if not loanieType:\n",
    "            privateKey = getpass(\"Enter your password: \")\n",
    "            values = getLoans(_userContract, _loanieAddress, privateKey)\n",
    "            for i in range(len(values['_amounts'])):\n",
    "                string = ''\n",
    "                for key in values:\n",
    "                    string += str(values[key][i]) + ' '\n",
    "                loans.append(string)\n",
    "    else:\n",
    "        print(\"This account is not registered in our system.\")\n",
    "    return loans"
   ]
  },
  {
   "cell_type": "code",
   "execution_count": 58,
   "metadata": {
    "scrolled": false
   },
   "outputs": [
    {
     "name": "stdout",
     "output_type": "stream",
     "text": [
      "Enter your password: ········\n"
     ]
    },
    {
     "data": {
      "text/plain": [
       "['354595 0xDED00A7f19D445B2c6D3ddFffbf78BB490771937 1590932815 6 21 ',\n",
       " '972988 0xDED00A7f19D445B2c6D3ddFffbf78BB490771937 1590932820 12 12 ']"
      ]
     },
     "execution_count": 58,
     "metadata": {},
     "output_type": "execute_result"
    }
   ],
   "source": [
    "getLoansList(loanieIndex,userContract,accountsConract,loanie)"
   ]
  },
  {
   "cell_type": "code",
   "execution_count": 59,
   "metadata": {},
   "outputs": [],
   "source": [
    "def getInstallments(_loanContract, _loanieAddress, _privateKey):\n",
    "    myId = 1590932820\n",
    "    transaction = _loanContract.functions.getMyInstallments(myId\n",
    "    ).buildTransaction({\n",
    "    'gas': 300000,\n",
    "    'gasPrice': web3.toWei('1', 'gwei'),\n",
    "    'from': _loanieAddress,\n",
    "    'nonce': web3.eth.getTransactionCount(_loanieAddress)\n",
    "    }) \n",
    "    \n",
    "    signed_txn = web3.eth.account.signTransaction(transaction, private_key=_privateKey)\n",
    "    transaction_hash = web3.eth.sendRawTransaction(web3.toHex(signed_txn.rawTransaction))\n",
    "    receipt = web3.eth.getTransactionReceipt(transaction_hash)\n",
    "    rich_logs = _loanContract.events.getLoanInstallments().processReceipt(receipt)\n",
    "    event_values = rich_logs[0]['args'] # Dictionary\n",
    "    return event_values"
   ]
  },
  {
   "cell_type": "code",
   "execution_count": 60,
   "metadata": {},
   "outputs": [],
   "source": [
    "def getinstallmentsList(_accountIndex, _loanContract, _accountsContract, _loanieAddress):\n",
    "    pendingLoans = [] # 'amount loanerAddress id'\n",
    "    if _accountIndex != -1:\n",
    "        loanieType = _accountsContract.functions.getType(_accountIndex).call()\n",
    "        if not loanieType:\n",
    "            privateKey = getpass(\"Enter your password: \")\n",
    "            values = getInstallments(_loanContract, _loanieAddress, privateKey)\n",
    "            for i in range(len(values['_amount'])):\n",
    "                string = ''\n",
    "                for key in values:\n",
    "                    string += str(values[key][i]) + ' '\n",
    "                pendingLoans.append(string)\n",
    "    else:\n",
    "        print(\"This account is not registered in our system.\")\n",
    "    return pendingLoans"
   ]
  },
  {
   "cell_type": "code",
   "execution_count": 61,
   "metadata": {},
   "outputs": [
    {
     "name": "stdout",
     "output_type": "stream",
     "text": [
      "Enter your password: ········\n"
     ]
    },
    {
     "data": {
      "text/plain": [
       "['81082 1593524848 0 False ',\n",
       " '81082 1596116848 0 False ',\n",
       " '81082 1598708848 0 False ',\n",
       " '81082 1601300848 0 False ',\n",
       " '81082 1603892848 0 False ',\n",
       " '81082 1606484848 0 False ',\n",
       " '81082 1609076848 0 False ',\n",
       " '81082 1611668848 0 False ',\n",
       " '81082 1614260848 0 False ',\n",
       " '81082 1616852848 0 False ',\n",
       " '81082 1619444848 0 False ',\n",
       " '81086 1622036848 0 False ']"
      ]
     },
     "execution_count": 61,
     "metadata": {},
     "output_type": "execute_result"
    }
   ],
   "source": [
    "getinstallmentsList(loanieIndex,loansContract,accountsConract,loanie)"
   ]
  },
  {
   "cell_type": "markdown",
   "metadata": {},
   "source": [
    "## Get Organization Loans"
   ]
  },
  {
   "cell_type": "code",
   "execution_count": 62,
   "metadata": {},
   "outputs": [],
   "source": [
    "def getLoanerLoans(_organizationContract, _loanerAddress, _privateKey):\n",
    "    transaction = _organizationContract.functions. getLoans( \n",
    "    ).buildTransaction({\n",
    "    'gas': 70000,\n",
    "    'gasPrice': web3.toWei('1', 'gwei'),\n",
    "    'from': _loanerAddress,\n",
    "    'nonce': web3.eth.getTransactionCount(_loanerAddress)\n",
    "    }) \n",
    "    \n",
    "    signed_txn = web3.eth.account.signTransaction(transaction, private_key=_privateKey)\n",
    "    transaction_hash = web3.eth.sendRawTransaction(web3.toHex(signed_txn.rawTransaction))\n",
    "    receipt = web3.eth.getTransactionReceipt(transaction_hash)\n",
    "    rich_logs = _organizationContract.events.getLoanerLoans().processReceipt(receipt)\n",
    "    event_values = rich_logs[0]['args'] # Dictionary\n",
    "    return event_values\n"
   ]
  },
  {
   "cell_type": "code",
   "execution_count": 63,
   "metadata": {},
   "outputs": [],
   "source": [
    "def getLoanerLoansList(_accountIndex,_organizationContract,_accountsContract, _loanerAddress):\n",
    "    loans = [] # 'amount loanerAddress id'\n",
    "    if _accountIndex != -1:\n",
    "        loanieType = _accountsContract.functions.getType(_accountIndex).call()\n",
    "        if loanieType:\n",
    "            privateKey = getpass(\"Enter your password: \")\n",
    "            values = getLoanerLoans(_organizationContract, _loanerAddress, privateKey)\n",
    "            for i in range(len(values['_amounts'])):\n",
    "                string = ''\n",
    "                for key in values:\n",
    "                    string += str(values[key][i]) + ' '\n",
    "                loans.append(string)\n",
    "    else:\n",
    "        print(\"This account is not registered in our system.\")\n",
    "    return loans"
   ]
  },
  {
   "cell_type": "code",
   "execution_count": 64,
   "metadata": {},
   "outputs": [
    {
     "name": "stdout",
     "output_type": "stream",
     "text": [
      "Enter your password: ········\n"
     ]
    },
    {
     "data": {
      "text/plain": [
       "['354595 0xDED00A7f19D445B2c6D3ddFffbf78BB490771937 1590932815 6 21 ',\n",
       " '972988 0xDED00A7f19D445B2c6D3ddFffbf78BB490771937 1590932820 12 12 ']"
      ]
     },
     "execution_count": 64,
     "metadata": {},
     "output_type": "execute_result"
    }
   ],
   "source": [
    "getLoanerLoansList(loanerIndex,organizationContract,accountsConract,loaner)"
   ]
  },
  {
   "cell_type": "markdown",
   "metadata": {},
   "source": [
    "## Get installment for the orgianization"
   ]
  },
  {
   "cell_type": "code",
   "execution_count": 65,
   "metadata": {},
   "outputs": [],
   "source": [
    "def getLoanerInstallmentsList(_accountIndex, _loanContract, _accountsContract, _loanerAddress):\n",
    "    pendingLoans = [] # 'amount loanerAddress id'\n",
    "    if _accountIndex != -1:\n",
    "        loanieType = _accountsContract.functions.getType(_accountIndex).call()\n",
    "        if loanieType:\n",
    "            privateKey = getpass(\"Enter your password: \")\n",
    "            values = getInstallments(_loanContract, _loanerAddress, privateKey)\n",
    "            for i in range(len(values['_amount'])):\n",
    "                string = ''\n",
    "                for key in values:\n",
    "                    string += str(values[key][i]) + ' '\n",
    "                pendingLoans.append(string)\n",
    "    else:\n",
    "        print(\"This account is not registered in our system.\")\n",
    "    return pendingLoans"
   ]
  },
  {
   "cell_type": "code",
   "execution_count": 66,
   "metadata": {},
   "outputs": [
    {
     "name": "stdout",
     "output_type": "stream",
     "text": [
      "Enter your password: ········\n"
     ]
    },
    {
     "data": {
      "text/plain": [
       "['81082 1593524848 0 False ',\n",
       " '81082 1596116848 0 False ',\n",
       " '81082 1598708848 0 False ',\n",
       " '81082 1601300848 0 False ',\n",
       " '81082 1603892848 0 False ',\n",
       " '81082 1606484848 0 False ',\n",
       " '81082 1609076848 0 False ',\n",
       " '81082 1611668848 0 False ',\n",
       " '81082 1614260848 0 False ',\n",
       " '81082 1616852848 0 False ',\n",
       " '81082 1619444848 0 False ',\n",
       " '81086 1622036848 0 False ']"
      ]
     },
     "execution_count": 66,
     "metadata": {},
     "output_type": "execute_result"
    }
   ],
   "source": [
    "getLoanerInstallmentsList(loanerIndex,loansContract,accountsConract,loaner)"
   ]
  },
  {
   "cell_type": "markdown",
   "metadata": {},
   "source": [
    "## Confirm paid installment"
   ]
  },
  {
   "cell_type": "code",
   "execution_count": 67,
   "metadata": {},
   "outputs": [],
   "source": [
    "def confirmInstallment (_loanerIndex,_loansContract,_organizationContract,_loaner,_accountsConract):\n",
    "    \n",
    "    installments = getLoanerInstallmentsList(_loanerIndex,_loansContract,_accountsConract,_loaner)\n",
    "    print(installments)\n",
    "    choice = input(\"enter the index of installment\")\n",
    "    if int(choice) >= len (installments):\n",
    "        print(\"wrong index\")\n",
    "        return\n",
    "    myid = 1590932820\n",
    "    transaction = _organizationContract.functions.confirmInstallment(int(choice),myid\n",
    "    ).buildTransaction({\n",
    "    'gas': 300000,\n",
    "    'gasPrice': web3.toWei('1', 'gwei'),\n",
    "    'from': _loaner,\n",
    "    'nonce': web3.eth.getTransactionCount(_loaner)\n",
    "    })    \n",
    "    privateKey = getpass(\"Enter your password: \")\n",
    "    signed_txn = web3.eth.account.signTransaction(transaction, private_key=privateKey)\n",
    "    transaction_hash = web3.eth.sendRawTransaction(web3.toHex(signed_txn.rawTransaction))\n",
    "    return\n",
    "    "
   ]
  },
  {
   "cell_type": "code",
   "execution_count": 68,
   "metadata": {},
   "outputs": [
    {
     "name": "stdout",
     "output_type": "stream",
     "text": [
      "Enter your password: ········\n",
      "['81082 1593524848 0 False ', '81082 1596116848 0 False ', '81082 1598708848 0 False ', '81082 1601300848 0 False ', '81082 1603892848 0 False ', '81082 1606484848 0 False ', '81082 1609076848 0 False ', '81082 1611668848 0 False ', '81082 1614260848 0 False ', '81082 1616852848 0 False ', '81082 1619444848 0 False ', '81086 1622036848 0 False ']\n",
      "enter the index of installment0\n",
      "Enter your password: ········\n"
     ]
    }
   ],
   "source": [
    "confirmInstallment(loanerIndex,loansContract,organizationContract,loaner,accountsConract)"
   ]
  },
  {
   "cell_type": "code",
   "execution_count": null,
   "metadata": {},
   "outputs": [],
   "source": []
  }
 ],
 "metadata": {
  "kernelspec": {
   "display_name": "Python 3",
   "language": "python",
   "name": "python3"
  },
  "language_info": {
   "codemirror_mode": {
    "name": "ipython",
    "version": 3
   },
   "file_extension": ".py",
   "mimetype": "text/x-python",
   "name": "python",
   "nbconvert_exporter": "python",
   "pygments_lexer": "ipython3",
   "version": "3.8.3"
  }
 },
 "nbformat": 4,
 "nbformat_minor": 4
}