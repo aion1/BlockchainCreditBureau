{
 "cells": [
  {
   "cell_type": "code",
   "execution_count": 1,
   "metadata": {},
   "outputs": [],
   "source": [
    "import json\n",
    "from web3 import Web3\n",
    "import os\n",
    "import platform\n",
    "from getpass import getpass\n",
    "import random"
   ]
  },
  {
   "cell_type": "code",
   "execution_count": 2,
   "metadata": {},
   "outputs": [],
   "source": [
    "operating_system = platform.system()\n",
    "d = '/'\n",
    "if operating_system == 'Windows':\n",
    "    d = '\\\\'\n",
    "\n",
    "ganache_url = \"HTTP://127.0.0.1:7545\"\n",
    "web3 = Web3(Web3.HTTPProvider(ganache_url))\n",
    "\n",
    "# This is our main account that controls everything\n",
    "web3.eth.defaultAccount = web3.eth.accounts[0]"
   ]
  },
  {
   "cell_type": "code",
   "execution_count": 3,
   "metadata": {},
   "outputs": [
    {
     "data": {
      "text/plain": [
       "<eth_account.signers.local.LocalAccount at 0x7f9eb6c12610>"
      ]
     },
     "execution_count": 3,
     "metadata": {},
     "output_type": "execute_result"
    }
   ],
   "source": [
    "new_account = web3.eth.account.create()\n",
    "new_account"
   ]
  },
  {
   "cell_type": "code",
   "execution_count": 4,
   "metadata": {},
   "outputs": [
    {
     "data": {
      "text/plain": [
       "'0x9200f272Fa60356C8c82586eB6B2CbAa1Ff82b7E'"
      ]
     },
     "execution_count": 4,
     "metadata": {},
     "output_type": "execute_result"
    },
    {
     "data": {
      "text/plain": [
       "{'address': 'ee4f5078d802207d68ee9668ae6b82fcfcf7e290',\n",
       " 'crypto': {'cipher': 'aes-128-ctr',\n",
       "  'cipherparams': {'iv': '0bb1fbb5580d492e018f583cf490f0a5'},\n",
       "  'ciphertext': '9060eee4a5c92c6e4848613e702e6caf2ccd75687f66e1e55287d016111179e9',\n",
       "  'kdf': 'scrypt',\n",
       "  'kdfparams': {'dklen': 32,\n",
       "   'n': 262144,\n",
       "   'r': 1,\n",
       "   'p': 8,\n",
       "   'salt': '6d7b118a107cceb23f35dc4cf923cb01'},\n",
       "  'mac': 'ae1219f6b465cd905fa34e342b544a8aa00a4cb723d3c3d0602c1be87b9e0f48'},\n",
       " 'id': 'ef9bea3f-01a5-4bea-82f1-4648ca95e9d9',\n",
       " 'version': 3}"
      ]
     },
     "execution_count": 4,
     "metadata": {},
     "output_type": "execute_result"
    },
    {
     "data": {
      "text/plain": [
       "<eth_account.signers.local.LocalAccount at 0x7f9eb6bcf1c0>"
      ]
     },
     "execution_count": 4,
     "metadata": {},
     "output_type": "execute_result"
    }
   ],
   "source": [
    "new_account.address\n",
    "enc_pass = web3.eth.account.encrypt('8700bbbe5cc527282fc13aa85dfc9cbe2493cdaa4b87fea14c0b30ad56c129d7', 'waliedahmed')\n",
    "enc_pass\n",
    "prKey = web3.eth.account.privateKeyToAccount('8700bbbe5cc527282fc13aa85dfc9cbe2493cdaa4b87fea14c0b30ad56c129d7')\n",
    "prKey\n"
   ]
  },
  {
   "cell_type": "code",
   "execution_count": 16,
   "metadata": {},
   "outputs": [
    {
     "data": {
      "text/plain": [
       "['__class__',\n",
       " '__delattr__',\n",
       " '__dict__',\n",
       " '__dir__',\n",
       " '__doc__',\n",
       " '__eq__',\n",
       " '__format__',\n",
       " '__ge__',\n",
       " '__getattribute__',\n",
       " '__gt__',\n",
       " '__hash__',\n",
       " '__init__',\n",
       " '__init_subclass__',\n",
       " '__le__',\n",
       " '__lt__',\n",
       " '__module__',\n",
       " '__ne__',\n",
       " '__new__',\n",
       " '__reduce__',\n",
       " '__reduce_ex__',\n",
       " '__repr__',\n",
       " '__setattr__',\n",
       " '__sizeof__',\n",
       " '__str__',\n",
       " '__subclasshook__',\n",
       " '__weakref__',\n",
       " '_default_kdf',\n",
       " '_keys',\n",
       " '_parsePrivateKey',\n",
       " '_recover_hash',\n",
       " '_sign_hash',\n",
       " '_use_unaudited_hdwallet_features',\n",
       " 'create',\n",
       " 'create_with_mnemonic',\n",
       " 'decrypt',\n",
       " 'enable_unaudited_hdwallet_features',\n",
       " 'encrypt',\n",
       " 'from_key',\n",
       " 'from_mnemonic',\n",
       " 'privateKeyToAccount',\n",
       " 'recoverHash',\n",
       " 'recoverTransaction',\n",
       " 'recover_message',\n",
       " 'recover_transaction',\n",
       " 'setKeyBackend',\n",
       " 'set_key_backend',\n",
       " 'signHash',\n",
       " 'signTransaction',\n",
       " 'sign_message',\n",
       " 'sign_transaction']"
      ]
     },
     "execution_count": 16,
     "metadata": {},
     "output_type": "execute_result"
    }
   ],
   "source": [
    "dir(web3.eth.account)"
   ]
  },
  {
   "cell_type": "code",
   "execution_count": 8,
   "metadata": {},
   "outputs": [
    {
     "data": {
      "text/plain": [
       "HexBytes('0xd9ca55bee1f0a5fcf7d1ef6a77347286cab540c851dc18300ccb4e7c4d35a055')"
      ]
     },
     "execution_count": 8,
     "metadata": {},
     "output_type": "execute_result"
    }
   ],
   "source": [
    "accountsConract.functions.add(new_account.address, True).transact()"
   ]
  },
  {
   "cell_type": "code",
   "execution_count": 5,
   "metadata": {},
   "outputs": [],
   "source": [
    "def getContract(filename):\n",
    "    with open('..' + d + '..' + d + 'Solidity' + d + 'build' + d + 'contracts' + d + filename) as contractFile:\n",
    "        contractJson=json.load(contractFile)\n",
    "        contractABI =contractJson['abi']\n",
    "        contractAdd=web3.toChecksumAddress(contractJson['networks']['5777']['address']) \n",
    "        return contractABI, contractAdd\n",
    "\n",
    "\n",
    "\n",
    "# Get the organization contract address\n",
    "organizationContractABI, organizationContractAdd = getContract('Organization.json')\t\n",
    "organizationContract = web3.eth.contract(address=organizationContractAdd, abi=organizationContractABI)\n",
    "\n",
    "#get the user contract address\n",
    "userContractABI,userContractAdd = getContract('User.json')\n",
    "userContract = web3.eth.contract(address=userContractAdd, abi=userContractABI)\n",
    "\n",
    "# Get the accounts contract address\n",
    "accountsContractABI,accountsContractAdd = getContract('Accounts.json')\n",
    "accountsConract = web3.eth.contract(address=accountsContractAdd, abi=accountsContractABI)\n",
    "\n",
    "loansContractABI, loansContractAddress= getContract('Loans.json')\n",
    "loansContract = web3.eth.contract(address=loansContractAddress, abi=loansContractABI)"
   ]
  },
  {
   "cell_type": "code",
   "execution_count": 6,
   "metadata": {
    "scrolled": true
   },
   "outputs": [
    {
     "data": {
      "text/plain": [
       "HexBytes('0x2296b6f5341c776ea74b6cdf6e5677469a9271fd6ef48c83403b9c1fe09ac7ea')"
      ]
     },
     "execution_count": 6,
     "metadata": {},
     "output_type": "execute_result"
    },
    {
     "data": {
      "text/plain": [
       "HexBytes('0x86a2f011855d61ab1087bc3b7c1f50f58fa8e370908a0994c9b07dab3c53901f')"
      ]
     },
     "execution_count": 6,
     "metadata": {},
     "output_type": "execute_result"
    },
    {
     "data": {
      "text/plain": [
       "HexBytes('0xdac4f2b6fc59b897868132807220db25005d2de8188e08c1cdf490feb98c5fb1')"
      ]
     },
     "execution_count": 6,
     "metadata": {},
     "output_type": "execute_result"
    }
   ],
   "source": [
    "# This should be changed to be a more robus way. We can give the loansContractAddress using the constructor\n",
    "# but this has problems when doing this in the 2_deploy_contracts.js\n",
    "userContract.functions.setLoansContractAddress(loansContractAddress).transact()\n",
    "organizationContract.functions.setLoansContractAddress(loansContractAddress).transact()\n",
    "loansContract.functions.setAccountsContractAddress(accountsContractAdd).transact()"
   ]
  },
  {
   "cell_type": "code",
   "execution_count": 7,
   "metadata": {},
   "outputs": [
    {
     "data": {
      "text/plain": [
       "HexBytes('0x5ccd7765242ffcbe87a6e92a8f699644ec250f4d60fb20aa6a686e3de5d71e0d')"
      ]
     },
     "execution_count": 7,
     "metadata": {},
     "output_type": "execute_result"
    },
    {
     "data": {
      "text/plain": [
       "HexBytes('0x76fa3488675d9939b8d3dae1953dd9d96549c73b34e13f40dc02d707925a1550')"
      ]
     },
     "execution_count": 7,
     "metadata": {},
     "output_type": "execute_result"
    },
    {
     "data": {
      "text/plain": [
       "HexBytes('0x1d8d1c5a0645241e7c6314bbc49349120a8f3d545828197b823ecb41d76776d4')"
      ]
     },
     "execution_count": 7,
     "metadata": {},
     "output_type": "execute_result"
    },
    {
     "data": {
      "text/plain": [
       "HexBytes('0x61ff7c26c0661b8c85c61b86e2ff80a2109998b75b9eb14f68946412cce6327b')"
      ]
     },
     "execution_count": 7,
     "metadata": {},
     "output_type": "execute_result"
    }
   ],
   "source": [
    "accountsConract.functions.add(web3.eth.accounts[1], False).transact()\n",
    "accountsConract.functions.add(web3.eth.accounts[2], False).transact()\n",
    "accountsConract.functions.add(web3.eth.accounts[5], True).transact()\n",
    "accountsConract.functions.add(web3.eth.accounts[6], True).transact()"
   ]
  },
  {
   "cell_type": "code",
   "execution_count": 11,
   "metadata": {},
   "outputs": [],
   "source": [
    "def deleteUser():\n",
    "    accountsConract.functions.deleteAccount(web3.eth.accounts[1]).transact()\n",
    "\n",
    "def createLoan(_loanie, _loaner, _amount, _organizationContract, _installmentsNum ,  _interest):\n",
    "    \n",
    "    transaction = _organizationContract.functions.createLoan(_loanie, _amount, _installmentsNum ,  _interest\n",
    "    ).buildTransaction({\n",
    "    'gas': 3000000,\n",
    "    'gasPrice': web3.toWei('1', 'gwei'),\n",
    "    'from': _loaner,\n",
    "    'nonce': web3.eth.getTransactionCount(_loaner)\n",
    "    }) \n",
    "    _privateKey = getpass(\"Enter the password of the organization: \")\n",
    "    signed_txn = web3.eth.account.signTransaction(transaction, private_key=_privateKey)\n",
    "    transaction_hash = web3.eth.sendRawTransaction(web3.toHex(signed_txn.rawTransaction))\n",
    "    \n",
    "    # _organizationContract.functions.createLoan(_loanie, _loaner, _amount).transact()\n",
    "    return True"
   ]
  },
  {
   "cell_type": "code",
   "execution_count": 52,
   "metadata": {},
   "outputs": [],
   "source": [
    "deleteUser()"
   ]
  },
  {
   "cell_type": "code",
   "execution_count": 53,
   "metadata": {},
   "outputs": [],
   "source": [
    "def getPendingLoans(_userContract, _loanieAddress, _privateKey):\n",
    "    transaction = _userContract.functions.getPendingLoans(\n",
    "    ).buildTransaction({\n",
    "    'gas': 300000,\n",
    "    'gasPrice': web3.toWei('1', 'gwei'),\n",
    "    'from': _loanieAddress,\n",
    "    'nonce': web3.eth.getTransactionCount(_loanieAddress)\n",
    "    }) \n",
    "    \n",
    "    signed_txn = web3.eth.account.signTransaction(transaction, private_key=_privateKey)\n",
    "    transaction_hash = web3.eth.sendRawTransaction(web3.toHex(signed_txn.rawTransaction))\n",
    "    receipt = web3.eth.getTransactionReceipt(transaction_hash)\n",
    "    rich_logs = _userContract.events.getAmounts().processReceipt(receipt)\n",
    "    event_values = rich_logs[0]['args'] # Dictionary\n",
    "    return event_values\n"
   ]
  },
  {
   "cell_type": "code",
   "execution_count": 54,
   "metadata": {},
   "outputs": [
    {
     "data": {
      "text/plain": [
       "'0xDED00A7f19D445B2c6D3ddFffbf78BB490771937'"
      ]
     },
     "execution_count": 54,
     "metadata": {},
     "output_type": "execute_result"
    }
   ],
   "source": [
    "# Suppose bank wants to create a loan\n",
    "#loaner = input(\"Enter the loaner addrses: \")\n",
    "loaner = web3.eth.accounts[5]\n",
    "loaner\n",
    "### Check to see whether it is a user or organization address\n",
    "loanerIndex = accountsConract.functions.getIndex(loaner).call()"
   ]
  },
  {
   "cell_type": "markdown",
   "metadata": {},
   "source": [
    "## Testing locally created accounts"
   ]
  },
  {
   "cell_type": "code",
   "execution_count": 9,
   "metadata": {},
   "outputs": [
    {
     "data": {
      "text/plain": [
       "'0x6c6DE3429e4876d3B82894B18D652a9D99D0d80e'"
      ]
     },
     "execution_count": 9,
     "metadata": {},
     "output_type": "execute_result"
    }
   ],
   "source": [
    "# Suppose bank wants to create a loan\n",
    "#loaner = input(\"Enter the loaner addrses: \")\n",
    "loaner = new_account.address\n",
    "loaner\n",
    "### Check to see whether it is a user or organization address\n",
    "loanerIndex = accountsConract.functions.getIndex(loaner).call()"
   ]
  },
  {
   "cell_type": "code",
   "execution_count": 55,
   "metadata": {},
   "outputs": [
    {
     "data": {
      "text/plain": [
       "'0xEE4F5078d802207d68eE9668AE6b82FCFCF7e290'"
      ]
     },
     "execution_count": 55,
     "metadata": {},
     "output_type": "execute_result"
    }
   ],
   "source": [
    "#loanie = input(\"Enter the loanie address: \")\n",
    "loanie = web3.eth.accounts[2]\n",
    "loanie\n",
    "loanieIndex = accountsConract.functions.getIndex(loanie).call()"
   ]
  },
  {
   "cell_type": "markdown",
   "metadata": {},
   "source": [
    "## Get pending loans"
   ]
  },
  {
   "cell_type": "code",
   "execution_count": 61,
   "metadata": {
    "scrolled": false
   },
   "outputs": [],
   "source": [
    "# Get pending loans using 3 separate functions\n",
    "def getPendingLoansList(_accountIndex, _userContract, _accountsContract, _loanieAddress):\n",
    "    pendingLoans = [] # 'amount loanerAddress id installmentNum interest'\n",
    "    if _accountIndex != -1:\n",
    "        loanieType = _accountsContract.functions.getType(_accountIndex).call()\n",
    "        if not loanieType:\n",
    "            privateKey = getpass(\"Enter your password: \")\n",
    "            values = getPendingLoans(_userContract, _loanieAddress, privateKey)\n",
    "            for i in range(len(values['_amounts'])):\n",
    "                string = ''\n",
    "                for key in values:\n",
    "                    string += str(values[key][i]) + ' '\n",
    "                pendingLoans.append(string)\n",
    "    else:\n",
    "        print(\"This account is not registered in our system.\")\n",
    "    return pendingLoans"
   ]
  },
  {
   "cell_type": "code",
   "execution_count": 62,
   "metadata": {},
   "outputs": [
    {
     "name": "stdout",
     "output_type": "stream",
     "text": [
      "Enter your password: ········\n"
     ]
    },
    {
     "data": {
      "text/plain": [
       "[]"
      ]
     },
     "execution_count": 62,
     "metadata": {},
     "output_type": "execute_result"
    }
   ],
   "source": [
    "getPendingLoansList(loanieIndex, userContract, accountsConract, loanie)"
   ]
  },
  {
   "cell_type": "markdown",
   "metadata": {},
   "source": [
    "## Confirm or reject loans"
   ]
  },
  {
   "cell_type": "code",
   "execution_count": 60,
   "metadata": {
    "scrolled": true
   },
   "outputs": [
    {
     "name": "stdout",
     "output_type": "stream",
     "text": [
      "Enter your password: ········\n",
      "Enter your loanie password: ········\n",
      "for id: 778039\n",
      "c/r?c\n",
      "for id: 762844\n",
      "c/r?r\n"
     ]
    }
   ],
   "source": [
    "# Confirm or reject loans\n",
    "pendingLoans = getPendingLoansList(loanieIndex, userContract, accountsConract, loanie)\n",
    "private_key = getpass('Enter your loanie password: ')\n",
    "for pendingLoan in pendingLoans:\n",
    "    print('for id: ' + pendingLoan.split(' ')[0])\n",
    "    loanId = pendingLoan.split(' ')[2]\n",
    "    choice = input('c/r?')\n",
    "    if choice == 'c':\n",
    "        transaction = userContract.functions.validateLoan(True,\n",
    "        int(loanId)).buildTransaction({\n",
    "        'gas': 1200000,\n",
    "        'gasPrice': web3.toWei('1', 'gwei'),\n",
    "        'from': loanie,\n",
    "        'nonce': web3.eth.getTransactionCount(loanie)\n",
    "        }) \n",
    "        signed_txn = web3.eth.account.signTransaction(transaction, private_key=private_key)\n",
    "        transaction_hash = web3.eth.sendRawTransaction(web3.toHex(signed_txn.rawTransaction))\n",
    "    elif choice == 'r':\n",
    "        transaction = userContract.functions.validateLoan(False,\n",
    "        int(loanId)).buildTransaction({\n",
    "        'gas': 300000,\n",
    "        'gasPrice': web3.toWei('1', 'gwei'),\n",
    "        'from': loanie,\n",
    "        'nonce': web3.eth.getTransactionCount(loanie)\n",
    "        }) \n",
    "        signed_txn = web3.eth.account.signTransaction(transaction, private_key=private_key)\n",
    "        transaction_hash = web3.eth.sendRawTransaction(web3.toHex(signed_txn.rawTransaction))\n",
    "    else:\n",
    "        print(\"Not recognized operation.\")"
   ]
  },
  {
   "cell_type": "markdown",
   "metadata": {},
   "source": [
    "# Create a new loan"
   ]
  },
  {
   "cell_type": "code",
   "execution_count": 14,
   "metadata": {
    "scrolled": false
   },
   "outputs": [
    {
     "data": {
      "text/plain": [
       "'0x6c6DE3429e4876d3B82894B18D652a9D99D0d80e'"
      ]
     },
     "execution_count": 14,
     "metadata": {},
     "output_type": "execute_result"
    },
    {
     "name": "stdout",
     "output_type": "stream",
     "text": [
      "Enter the password of the organization: ········\n"
     ]
    },
    {
     "ename": "ValueError",
     "evalue": "{'message': \"sender doesn't have enough funds to send tx. The upfront cost is: 3000000000000000 and the sender's account only has: 0\", 'code': -32000, 'data': {'stack': \"Error: sender doesn't have enough funds to send tx. The upfront cost is: 3000000000000000 and the sender's account only has: 0\\n    at VM.<anonymous> (/opt/ganache/resources/static/node/node_modules/ganache-core/node_modules/ethereumjs-vm/lib/runTx.ts:114:11)\\n    at step (/opt/ganache/resources/static/node/node_modules/ganache-core/node_modules/ethereumjs-vm/dist/runTx.js:32:23)\\n    at Object.next (/opt/ganache/resources/static/node/node_modules/ganache-core/node_modules/ethereumjs-vm/dist/runTx.js:13:53)\\n    at fulfilled (/opt/ganache/resources/static/node/node_modules/ganache-core/node_modules/ethereumjs-vm/dist/runTx.js:4:58)\\n    at runMicrotasks (<anonymous>)\\n    at processTicksAndRejections (internal/process/task_queues.js:93:5)\", 'name': 'Error'}}",
     "output_type": "error",
     "traceback": [
      "\u001b[0;31m---------------------------------------------------------------------------\u001b[0m",
      "\u001b[0;31mValueError\u001b[0m                                Traceback (most recent call last)",
      "\u001b[0;32m<ipython-input-14-f85261766e57>\u001b[0m in \u001b[0;36m<module>\u001b[0;34m\u001b[0m\n\u001b[1;32m     11\u001b[0m         \u001b[0minterest\u001b[0m\u001b[0;34m=\u001b[0m\u001b[0mrandom\u001b[0m\u001b[0;34m.\u001b[0m\u001b[0mrandint\u001b[0m\u001b[0;34m(\u001b[0m\u001b[0;36m5\u001b[0m\u001b[0;34m,\u001b[0m\u001b[0;36m35\u001b[0m\u001b[0;34m)\u001b[0m\u001b[0;34m\u001b[0m\u001b[0;34m\u001b[0m\u001b[0m\n\u001b[1;32m     12\u001b[0m         \u001b[0mamount\u001b[0m\u001b[0;34m+=\u001b[0m\u001b[0;34m(\u001b[0m\u001b[0mamount\u001b[0m\u001b[0;34m*\u001b[0m\u001b[0minterest\u001b[0m\u001b[0;34m)\u001b[0m\u001b[0;34m//\u001b[0m\u001b[0;36m100\u001b[0m\u001b[0;34m\u001b[0m\u001b[0;34m\u001b[0m\u001b[0m\n\u001b[0;32m---> 13\u001b[0;31m         \u001b[0;32mif\u001b[0m \u001b[0mcreateLoan\u001b[0m\u001b[0;34m(\u001b[0m\u001b[0m_loanie\u001b[0m\u001b[0;34m=\u001b[0m\u001b[0mweb3\u001b[0m\u001b[0;34m.\u001b[0m\u001b[0meth\u001b[0m\u001b[0;34m.\u001b[0m\u001b[0maccounts\u001b[0m\u001b[0;34m[\u001b[0m\u001b[0;36m2\u001b[0m\u001b[0;34m]\u001b[0m\u001b[0;34m,\u001b[0m \u001b[0m_loaner\u001b[0m\u001b[0;34m=\u001b[0m\u001b[0mloaner\u001b[0m\u001b[0;34m,\u001b[0m \u001b[0m_amount\u001b[0m\u001b[0;34m=\u001b[0m\u001b[0mamount\u001b[0m\u001b[0;34m,\u001b[0m \u001b[0m_organizationContract\u001b[0m\u001b[0;34m=\u001b[0m\u001b[0morganizationContract\u001b[0m\u001b[0;34m,\u001b[0m \u001b[0m_installmentsNum\u001b[0m\u001b[0;34m=\u001b[0m\u001b[0minstallmentsNum\u001b[0m\u001b[0;34m,\u001b[0m \u001b[0m_interest\u001b[0m\u001b[0;34m=\u001b[0m\u001b[0minterest\u001b[0m\u001b[0;34m)\u001b[0m\u001b[0;34m:\u001b[0m\u001b[0;34m\u001b[0m\u001b[0;34m\u001b[0m\u001b[0m\n\u001b[0m\u001b[1;32m     14\u001b[0m             \u001b[0mprint\u001b[0m\u001b[0;34m(\u001b[0m\u001b[0;34m\"Loan created\"\u001b[0m\u001b[0;34m)\u001b[0m\u001b[0;34m\u001b[0m\u001b[0;34m\u001b[0m\u001b[0m\n\u001b[1;32m     15\u001b[0m \u001b[0;32melse\u001b[0m\u001b[0;34m:\u001b[0m\u001b[0;34m\u001b[0m\u001b[0;34m\u001b[0m\u001b[0m\n",
      "\u001b[0;32m<ipython-input-11-c2305d803e14>\u001b[0m in \u001b[0;36mcreateLoan\u001b[0;34m(_loanie, _loaner, _amount, _organizationContract, _installmentsNum, _interest)\u001b[0m\n\u001b[1;32m     13\u001b[0m     \u001b[0m_privateKey\u001b[0m \u001b[0;34m=\u001b[0m \u001b[0mgetpass\u001b[0m\u001b[0;34m(\u001b[0m\u001b[0;34m\"Enter the password of the organization: \"\u001b[0m\u001b[0;34m)\u001b[0m\u001b[0;34m\u001b[0m\u001b[0;34m\u001b[0m\u001b[0m\n\u001b[1;32m     14\u001b[0m     \u001b[0msigned_txn\u001b[0m \u001b[0;34m=\u001b[0m \u001b[0mweb3\u001b[0m\u001b[0;34m.\u001b[0m\u001b[0meth\u001b[0m\u001b[0;34m.\u001b[0m\u001b[0maccount\u001b[0m\u001b[0;34m.\u001b[0m\u001b[0msignTransaction\u001b[0m\u001b[0;34m(\u001b[0m\u001b[0mtransaction\u001b[0m\u001b[0;34m,\u001b[0m \u001b[0mprivate_key\u001b[0m\u001b[0;34m=\u001b[0m\u001b[0m_privateKey\u001b[0m\u001b[0;34m)\u001b[0m\u001b[0;34m\u001b[0m\u001b[0;34m\u001b[0m\u001b[0m\n\u001b[0;32m---> 15\u001b[0;31m     \u001b[0mtransaction_hash\u001b[0m \u001b[0;34m=\u001b[0m \u001b[0mweb3\u001b[0m\u001b[0;34m.\u001b[0m\u001b[0meth\u001b[0m\u001b[0;34m.\u001b[0m\u001b[0msendRawTransaction\u001b[0m\u001b[0;34m(\u001b[0m\u001b[0mweb3\u001b[0m\u001b[0;34m.\u001b[0m\u001b[0mtoHex\u001b[0m\u001b[0;34m(\u001b[0m\u001b[0msigned_txn\u001b[0m\u001b[0;34m.\u001b[0m\u001b[0mrawTransaction\u001b[0m\u001b[0;34m)\u001b[0m\u001b[0;34m)\u001b[0m\u001b[0;34m\u001b[0m\u001b[0;34m\u001b[0m\u001b[0m\n\u001b[0m\u001b[1;32m     16\u001b[0m \u001b[0;34m\u001b[0m\u001b[0m\n\u001b[1;32m     17\u001b[0m     \u001b[0;31m# _organizationContract.functions.createLoan(_loanie, _loaner, _amount).transact()\u001b[0m\u001b[0;34m\u001b[0m\u001b[0;34m\u001b[0m\u001b[0;34m\u001b[0m\u001b[0m\n",
      "\u001b[0;32m~/pythonEnvironments/ethereumEnv/lib/python3.8/site-packages/web3/eth.py\u001b[0m in \u001b[0;36msendRawTransaction\u001b[0;34m(self, raw_transaction)\u001b[0m\n\u001b[1;32m    388\u001b[0m \u001b[0;34m\u001b[0m\u001b[0m\n\u001b[1;32m    389\u001b[0m     \u001b[0;32mdef\u001b[0m \u001b[0msendRawTransaction\u001b[0m\u001b[0;34m(\u001b[0m\u001b[0mself\u001b[0m\u001b[0;34m,\u001b[0m \u001b[0mraw_transaction\u001b[0m\u001b[0;34m:\u001b[0m \u001b[0mHexStr\u001b[0m\u001b[0;34m)\u001b[0m \u001b[0;34m->\u001b[0m \u001b[0mHexBytes\u001b[0m\u001b[0;34m:\u001b[0m\u001b[0;34m\u001b[0m\u001b[0;34m\u001b[0m\u001b[0m\n\u001b[0;32m--> 390\u001b[0;31m         return self.web3.manager.request_blocking(\n\u001b[0m\u001b[1;32m    391\u001b[0m             \u001b[0mRPC\u001b[0m\u001b[0;34m.\u001b[0m\u001b[0meth_sendRawTransaction\u001b[0m\u001b[0;34m,\u001b[0m\u001b[0;34m\u001b[0m\u001b[0;34m\u001b[0m\u001b[0m\n\u001b[1;32m    392\u001b[0m             \u001b[0;34m[\u001b[0m\u001b[0mraw_transaction\u001b[0m\u001b[0;34m]\u001b[0m\u001b[0;34m,\u001b[0m\u001b[0;34m\u001b[0m\u001b[0;34m\u001b[0m\u001b[0m\n",
      "\u001b[0;32m~/pythonEnvironments/ethereumEnv/lib/python3.8/site-packages/web3/manager.py\u001b[0m in \u001b[0;36mrequest_blocking\u001b[0;34m(self, method, params, error_formatters)\u001b[0m\n\u001b[1;32m    151\u001b[0m         \u001b[0;32mif\u001b[0m \u001b[0;34m\"error\"\u001b[0m \u001b[0;32min\u001b[0m \u001b[0mresponse\u001b[0m\u001b[0;34m:\u001b[0m\u001b[0;34m\u001b[0m\u001b[0;34m\u001b[0m\u001b[0m\n\u001b[1;32m    152\u001b[0m             \u001b[0mapply_error_formatters\u001b[0m\u001b[0;34m(\u001b[0m\u001b[0merror_formatters\u001b[0m\u001b[0;34m,\u001b[0m \u001b[0mresponse\u001b[0m\u001b[0;34m)\u001b[0m\u001b[0;34m\u001b[0m\u001b[0;34m\u001b[0m\u001b[0m\n\u001b[0;32m--> 153\u001b[0;31m             \u001b[0;32mraise\u001b[0m \u001b[0mValueError\u001b[0m\u001b[0;34m(\u001b[0m\u001b[0mresponse\u001b[0m\u001b[0;34m[\u001b[0m\u001b[0;34m\"error\"\u001b[0m\u001b[0;34m]\u001b[0m\u001b[0;34m)\u001b[0m\u001b[0;34m\u001b[0m\u001b[0;34m\u001b[0m\u001b[0m\n\u001b[0m\u001b[1;32m    154\u001b[0m \u001b[0;34m\u001b[0m\u001b[0m\n\u001b[1;32m    155\u001b[0m         \u001b[0;32mreturn\u001b[0m \u001b[0mresponse\u001b[0m\u001b[0;34m[\u001b[0m\u001b[0;34m'result'\u001b[0m\u001b[0;34m]\u001b[0m\u001b[0;34m\u001b[0m\u001b[0;34m\u001b[0m\u001b[0m\n",
      "\u001b[0;31mValueError\u001b[0m: {'message': \"sender doesn't have enough funds to send tx. The upfront cost is: 3000000000000000 and the sender's account only has: 0\", 'code': -32000, 'data': {'stack': \"Error: sender doesn't have enough funds to send tx. The upfront cost is: 3000000000000000 and the sender's account only has: 0\\n    at VM.<anonymous> (/opt/ganache/resources/static/node/node_modules/ganache-core/node_modules/ethereumjs-vm/lib/runTx.ts:114:11)\\n    at step (/opt/ganache/resources/static/node/node_modules/ganache-core/node_modules/ethereumjs-vm/dist/runTx.js:32:23)\\n    at Object.next (/opt/ganache/resources/static/node/node_modules/ganache-core/node_modules/ethereumjs-vm/dist/runTx.js:13:53)\\n    at fulfilled (/opt/ganache/resources/static/node/node_modules/ganache-core/node_modules/ethereumjs-vm/dist/runTx.js:4:58)\\n    at runMicrotasks (<anonymous>)\\n    at processTicksAndRejections (internal/process/task_queues.js:93:5)\", 'name': 'Error'}}"
     ]
    }
   ],
   "source": [
    "loaner\n",
    "# Create a new loan\n",
    "if loanerIndex != -1:\n",
    "    loanerType = accountsConract.functions.getType(loanerIndex).call()\n",
    "    if loanerType:\n",
    "        # We will change this to inputs later\n",
    "        amount=random.randint(1000,1000000)\n",
    "        if amount%2!=0:\n",
    "            amount+=1\n",
    "        installmentsNum=random.randint(6,15)\n",
    "        interest=random.randint(5,35)\n",
    "        amount+=(amount*interest)//100\n",
    "        if createLoan(_loanie=web3.eth.accounts[2], _loaner=loaner, _amount=amount, _organizationContract=organizationContract, _installmentsNum=installmentsNum, _interest=interest):\n",
    "            print(\"Loan created\")\n",
    "else:\n",
    "    print(\"This account is not registered in our system.\")"
   ]
  },
  {
   "cell_type": "markdown",
   "metadata": {},
   "source": [
    "## Get user loans"
   ]
  },
  {
   "cell_type": "code",
   "execution_count": 63,
   "metadata": {},
   "outputs": [],
   "source": [
    "def getLoans(_userContract, _loanieAddress, _privateKey):\n",
    "    transaction = _userContract.functions. getMyLoans(\n",
    "    ).buildTransaction({\n",
    "    'gas': 70000,\n",
    "    'gasPrice': web3.toWei('1', 'gwei'),\n",
    "    'from': _loanieAddress,\n",
    "    'nonce': web3.eth.getTransactionCount(_loanieAddress)\n",
    "    }) \n",
    "    \n",
    "    signed_txn = web3.eth.account.signTransaction(transaction, private_key=_privateKey)\n",
    "    transaction_hash = web3.eth.sendRawTransaction(web3.toHex(signed_txn.rawTransaction))\n",
    "    receipt = web3.eth.getTransactionReceipt(transaction_hash)\n",
    "    rich_logs = _userContract.events.getAmounts().processReceipt(receipt)\n",
    "    event_values = rich_logs[0]['args'] # Dictionary\n",
    "    return event_values"
   ]
  },
  {
   "cell_type": "code",
   "execution_count": 64,
   "metadata": {},
   "outputs": [],
   "source": [
    "def getLoansList(_accountIndex, _userContract, _accountsContract, _loanieAddress):\n",
    "    loans = [] # 'amount loanerAddress id'\n",
    "    if _accountIndex != -1:\n",
    "        loanieType = _accountsContract.functions.getType(_accountIndex).call()\n",
    "        if not loanieType:\n",
    "            privateKey = getpass(\"Enter your password: \")\n",
    "            values = getLoans(_userContract, _loanieAddress, privateKey)\n",
    "            for i in range(len(values['_amounts'])):\n",
    "                string = ''\n",
    "                for key in values:\n",
    "                    string += str(values[key][i]) + ' '\n",
    "                loans.append(string)\n",
    "    else:\n",
    "        print(\"This account is not registered in our system.\")\n",
    "    return loans"
   ]
  },
  {
   "cell_type": "code",
   "execution_count": 65,
   "metadata": {
    "scrolled": false
   },
   "outputs": [
    {
     "name": "stdout",
     "output_type": "stream",
     "text": [
      "Enter your password: ········\n"
     ]
    },
    {
     "data": {
      "text/plain": [
       "['778039 0xDED00A7f19D445B2c6D3ddFffbf78BB490771937 1593591550 6 5 ']"
      ]
     },
     "execution_count": 65,
     "metadata": {},
     "output_type": "execute_result"
    }
   ],
   "source": [
    "getLoansList(loanieIndex,userContract,accountsConract,loanie)"
   ]
  },
  {
   "cell_type": "code",
   "execution_count": 71,
   "metadata": {},
   "outputs": [],
   "source": [
    "def getInstallments(_loanContract, _loanieAddress, _privateKey):\n",
    "    myId = 1593591550\n",
    "    transaction = _loanContract.functions.getMyInstallments(myId\n",
    "    ).buildTransaction({\n",
    "    'gas': 300000,\n",
    "    'gasPrice': web3.toWei('1', 'gwei'),\n",
    "    'from': _loanieAddress,\n",
    "    'nonce': web3.eth.getTransactionCount(_loanieAddress)\n",
    "    }) \n",
    "    \n",
    "    signed_txn = web3.eth.account.signTransaction(transaction, private_key=_privateKey)\n",
    "    transaction_hash = web3.eth.sendRawTransaction(web3.toHex(signed_txn.rawTransaction))\n",
    "    receipt = web3.eth.getTransactionReceipt(transaction_hash)\n",
    "    rich_logs = _loanContract.events.getLoanInstallments().processReceipt(receipt)\n",
    "    event_values = rich_logs[0]['args'] # Dictionary\n",
    "    return event_values"
   ]
  },
  {
   "cell_type": "code",
   "execution_count": 72,
   "metadata": {},
   "outputs": [],
   "source": [
    "def getinstallmentsList(_accountIndex, _loanContract, _accountsContract, _loanieAddress):\n",
    "    pendingLoans = [] # 'amount payDate payoutDate paid'\n",
    "    if _accountIndex != -1:\n",
    "        loanieType = _accountsContract.functions.getType(_accountIndex).call()\n",
    "        if not loanieType:\n",
    "            privateKey = getpass(\"Enter your password: \")\n",
    "            values = getInstallments(_loanContract, _loanieAddress, privateKey)\n",
    "            for i in range(len(values['_amount'])):\n",
    "                string = ''\n",
    "                for key in values:\n",
    "                    string += str(values[key][i]) + ' '\n",
    "                pendingLoans.append(string)\n",
    "    else:\n",
    "        print(\"This account is not registered in our system.\")\n",
    "    return pendingLoans"
   ]
  },
  {
   "cell_type": "code",
   "execution_count": 73,
   "metadata": {},
   "outputs": [
    {
     "name": "stdout",
     "output_type": "stream",
     "text": [
      "Enter your password: ········\n"
     ]
    },
    {
     "data": {
      "text/plain": [
       "['129673 1596183718 0 False ',\n",
       " '129673 1598775718 0 False ',\n",
       " '129673 1601367718 0 False ',\n",
       " '129673 1603959718 0 False ',\n",
       " '129673 1606551718 0 False ',\n",
       " '129674 1609143718 0 False ']"
      ]
     },
     "execution_count": 73,
     "metadata": {},
     "output_type": "execute_result"
    }
   ],
   "source": [
    "getinstallmentsList(loanieIndex,loansContract,accountsConract,loanie)"
   ]
  },
  {
   "cell_type": "markdown",
   "metadata": {},
   "source": [
    "## Get Organization Loans"
   ]
  },
  {
   "cell_type": "code",
   "execution_count": 74,
   "metadata": {},
   "outputs": [],
   "source": [
    "def getLoanerLoans(_organizationContract, _loanerAddress, _privateKey):\n",
    "    transaction = _organizationContract.functions. getLoans( \n",
    "    ).buildTransaction({\n",
    "    'gas': 70000,\n",
    "    'gasPrice': web3.toWei('1', 'gwei'),\n",
    "    'from': _loanerAddress,\n",
    "    'nonce': web3.eth.getTransactionCount(_loanerAddress)\n",
    "    }) \n",
    "    \n",
    "    signed_txn = web3.eth.account.signTransaction(transaction, private_key=_privateKey)\n",
    "    transaction_hash = web3.eth.sendRawTransaction(web3.toHex(signed_txn.rawTransaction))\n",
    "    receipt = web3.eth.getTransactionReceipt(transaction_hash)\n",
    "    rich_logs = _organizationContract.events.getLoanerLoans().processReceipt(receipt)\n",
    "    event_values = rich_logs[0]['args'] # Dictionary\n",
    "    return event_values\n"
   ]
  },
  {
   "cell_type": "code",
   "execution_count": 75,
   "metadata": {},
   "outputs": [],
   "source": [
    "def getLoanerLoansList(_accountIndex,_organizationContract,_accountsContract, _loanerAddress):\n",
    "    loans = [] # 'amount loanerAddress id'\n",
    "    if _accountIndex != -1:\n",
    "        loanieType = _accountsContract.functions.getType(_accountIndex).call()\n",
    "        if loanieType:\n",
    "            privateKey = getpass(\"Enter your password: \")\n",
    "            values = getLoanerLoans(_organizationContract, _loanerAddress, privateKey)\n",
    "            for i in range(len(values['_amounts'])):\n",
    "                string = ''\n",
    "                for key in values:\n",
    "                    string += str(values[key][i]) + ' '\n",
    "                loans.append(string)\n",
    "    else:\n",
    "        print(\"This account is not registered in our system.\")\n",
    "    return loans"
   ]
  },
  {
   "cell_type": "code",
   "execution_count": 76,
   "metadata": {},
   "outputs": [
    {
     "name": "stdout",
     "output_type": "stream",
     "text": [
      "Enter your password: ········\n"
     ]
    },
    {
     "data": {
      "text/plain": [
       "['778039 0xDED00A7f19D445B2c6D3ddFffbf78BB490771937 1593591550 6 5 ']"
      ]
     },
     "execution_count": 76,
     "metadata": {},
     "output_type": "execute_result"
    }
   ],
   "source": [
    "getLoanerLoansList(loanerIndex,organizationContract,accountsConract,loaner)"
   ]
  },
  {
   "cell_type": "markdown",
   "metadata": {},
   "source": [
    "## Get installment for the orgianization"
   ]
  },
  {
   "cell_type": "code",
   "execution_count": 77,
   "metadata": {},
   "outputs": [],
   "source": [
    "def getLoanerInstallmentsList(_accountIndex, _loanContract, _accountsContract, _loanerAddress):\n",
    "    pendingLoans = [] # 'amount payDate payoutDate paid'\n",
    "    if _accountIndex != -1:\n",
    "        loanieType = _accountsContract.functions.getType(_accountIndex).call()\n",
    "        if loanieType:\n",
    "            privateKey = getpass(\"Enter your password: \")\n",
    "            values = getInstallments(_loanContract, _loanerAddress, privateKey)\n",
    "            for i in range(len(values['_amount'])):\n",
    "                string = ''\n",
    "                for key in values:\n",
    "                    string += str(values[key][i]) + ' '\n",
    "                pendingLoans.append(string)\n",
    "    else:\n",
    "        print(\"This account is not registered in our system.\")\n",
    "    return pendingLoans"
   ]
  },
  {
   "cell_type": "code",
   "execution_count": 82,
   "metadata": {},
   "outputs": [
    {
     "name": "stdout",
     "output_type": "stream",
     "text": [
      "Enter your password: ········\n"
     ]
    },
    {
     "data": {
      "text/plain": [
       "['129673 1596183718 1593592233 True ',\n",
       " '129673 1598775718 0 False ',\n",
       " '129673 1601367718 0 False ',\n",
       " '129673 1603959718 0 False ',\n",
       " '129673 1606551718 0 False ',\n",
       " '129674 1609143718 0 False ']"
      ]
     },
     "execution_count": 82,
     "metadata": {},
     "output_type": "execute_result"
    }
   ],
   "source": [
    "getLoanerInstallmentsList(loanerIndex,loansContract,accountsConract,loaner)"
   ]
  },
  {
   "cell_type": "markdown",
   "metadata": {},
   "source": [
    "## Confirm paid installment"
   ]
  },
  {
   "cell_type": "code",
   "execution_count": 80,
   "metadata": {},
   "outputs": [],
   "source": [
    "def confirmInstallment (_loanerIndex,_loansContract,_organizationContract,_loaner,_accountsConract):\n",
    "    \n",
    "    installments = getLoanerInstallmentsList(_loanerIndex,_loansContract,_accountsConract,_loaner)\n",
    "    print(installments)\n",
    "    choice = input(\"enter the index of installment\")\n",
    "    if int(choice) >= len (installments):\n",
    "        print(\"wrong index\")\n",
    "        return\n",
    "    myid = 1593591550\n",
    "    transaction = _organizationContract.functions.confirmInstallment(int(choice),myid\n",
    "    ).buildTransaction({\n",
    "    'gas': 400000,\n",
    "    'gasPrice': web3.toWei('1', 'gwei'),\n",
    "    'from': _loaner,\n",
    "    'nonce': web3.eth.getTransactionCount(_loaner)\n",
    "    })    \n",
    "    privateKey = getpass(\"Enter your password: \")\n",
    "    signed_txn = web3.eth.account.signTransaction(transaction, private_key=privateKey)\n",
    "    transaction_hash = web3.eth.sendRawTransaction(web3.toHex(signed_txn.rawTransaction))\n",
    "    return\n",
    "    "
   ]
  },
  {
   "cell_type": "code",
   "execution_count": 81,
   "metadata": {},
   "outputs": [
    {
     "name": "stdout",
     "output_type": "stream",
     "text": [
      "Enter your password: ········\n",
      "['129673 1596183718 0 False ', '129673 1598775718 0 False ', '129673 1601367718 0 False ', '129673 1603959718 0 False ', '129673 1606551718 0 False ', '129674 1609143718 0 False ']\n",
      "enter the index of installment0\n",
      "Enter your password: ········\n"
     ]
    }
   ],
   "source": [
    "confirmInstallment(loanerIndex,loansContract,organizationContract,loaner,accountsConract)"
   ]
  },
  {
   "cell_type": "code",
   "execution_count": null,
   "metadata": {},
   "outputs": [],
   "source": []
  }
 ],
 "metadata": {
  "kernelspec": {
   "display_name": "Python 3",
   "language": "python",
   "name": "python3"
  },
  "language_info": {
   "codemirror_mode": {
    "name": "ipython",
    "version": 3
   },
   "file_extension": ".py",
   "mimetype": "text/x-python",
   "name": "python",
   "nbconvert_exporter": "python",
   "pygments_lexer": "ipython3",
   "version": "3.8.3"
  }
 },
 "nbformat": 4,
 "nbformat_minor": 4
}
