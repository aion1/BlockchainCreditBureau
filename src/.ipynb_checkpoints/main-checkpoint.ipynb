{
 "cells": [
  {
   "cell_type": "code",
   "execution_count": 1,
   "metadata": {},
   "outputs": [],
   "source": [
    "import json\n",
    "from web3 import Web3\n",
    "import os\n",
    "import platform"
   ]
  },
  {
   "cell_type": "code",
   "execution_count": 2,
   "metadata": {},
   "outputs": [],
   "source": [
    "operating_system = platform.system()\n",
    "d = '/'\n",
    "if operating_system == 'Windows':\n",
    "    d = '\\\\'\n",
    "\n",
    "ganache_url = \"HTTP://127.0.0.1:7545\"\n",
    "web3 = Web3(Web3.HTTPProvider(ganache_url))\n",
    "# This is our main account that controls everything\n",
    "web3.eth.defaultAccount = web3.eth.accounts[0]"
   ]
  },
  {
   "cell_type": "code",
   "execution_count": 5,
   "metadata": {},
   "outputs": [
    {
     "data": {
      "text/plain": [
       "['0xb6ef75b96D856a6cE0C796be4a7ABfB81E5D600A',\n",
       " '0xa2D0B6dbCd04a789da44CCECA9d66B6dfc93A124',\n",
       " '0xEE4F5078d802207d68eE9668AE6b82FCFCF7e290',\n",
       " '0x9cbFF84198C1c3ed898C52Fbc0076Bf008476C4B',\n",
       " '0x18a31E094820e4C9C79a073A0927FA72635b18C7',\n",
       " '0xDED00A7f19D445B2c6D3ddFffbf78BB490771937',\n",
       " '0x37594b8C8aC1D94457C86e30dE793099CE659817',\n",
       " '0x6a1ab8E6bb7e9CC3463997FC7F38e3B3855282b5',\n",
       " '0xAfd3bB14ff7735B0D9792e5bcc9BB5e758a32ccB',\n",
       " '0x8b23fa43919cB11b9CDa04FA45B92aaA0A0Adcd8']"
      ]
     },
     "execution_count": 5,
     "metadata": {},
     "output_type": "execute_result"
    }
   ],
   "source": [
    "web3.eth.accounts"
   ]
  },
  {
   "cell_type": "code",
   "execution_count": 6,
   "metadata": {},
   "outputs": [],
   "source": [
    "def getContract(filename):\n",
    "    with open('..'+ d +'build'+ d +'contracts'+ d +filename) as contractFile:\n",
    "        contractJson=json.load(contractFile)\n",
    "        contractABI =contractJson['abi']\n",
    "        contractAdd=web3.toChecksumAddress(contractJson['networks']['5777']['address']) \n",
    "        return contractABI, contractAdd\n",
    "\n",
    "\n",
    "\n",
    "# Get the organization contract address\n",
    "organizationContractABI, organizationContractAdd = getContract('Organization.json')\t\n",
    "organizationContract = web3.eth.contract(address=organizationContractAdd, abi=organizationContractABI)\n",
    "\n",
    "#get the user contract address\n",
    "userContractABI,userContractAdd = getContract('User.json')\n",
    "userContract = web3.eth.contract(address=userContractAdd, abi=userContractABI)\n",
    "\n",
    "# Get the accounts contract address\n",
    "accountsContractABI,accountsContractAdd = getContract('Accounts.json')\n",
    "accountsConract = web3.eth.contract(address=accountsContractAdd, abi=accountsContractABI)\n",
    "\n",
    "loansContractABI, loansContractAddress= getContract('Loans.json')\n"
   ]
  },
  {
   "cell_type": "code",
   "execution_count": 7,
   "metadata": {},
   "outputs": [
    {
     "data": {
      "text/plain": [
       "HexBytes('0xef498450ff2b10ddea4c866a536678acfb4d75196bd9d859e05527217615ff30')"
      ]
     },
     "execution_count": 7,
     "metadata": {},
     "output_type": "execute_result"
    },
    {
     "data": {
      "text/plain": [
       "HexBytes('0xebc50d6ee6f36e6d63891e968edcc0ba42bd1810e74e8dad265e01c47b50d000')"
      ]
     },
     "execution_count": 7,
     "metadata": {},
     "output_type": "execute_result"
    },
    {
     "data": {
      "text/plain": [
       "HexBytes('0x2d7e98530552b8d481cb2196901f7f174291067033aad70a8d3d1c88794d3395')"
      ]
     },
     "execution_count": 7,
     "metadata": {},
     "output_type": "execute_result"
    },
    {
     "data": {
      "text/plain": [
       "HexBytes('0x2063e379cb929a5983ea74aa39a27f26e139dae9170f09bb315e5bc1b003a7a3')"
      ]
     },
     "execution_count": 7,
     "metadata": {},
     "output_type": "execute_result"
    }
   ],
   "source": [
    "accountsConract.functions.add(web3.eth.accounts[1], False).transact()\n",
    "accountsConract.functions.add(web3.eth.accounts[2], False).transact()\n",
    "accountsConract.functions.add(web3.eth.accounts[5], True).transact()\n",
    "accountsConract.functions.add(web3.eth.accounts[6], True).transact()"
   ]
  },
  {
   "cell_type": "code",
   "execution_count": 8,
   "metadata": {},
   "outputs": [],
   "source": [
    "def deleteUser():\n",
    "    accountsConract.functions.deleteAccount(web3.eth.accounts[1]).transact()\n",
    "\n",
    "def createLoan(_address,_loaner,_amount,_loansContractAddress):\n",
    "    organizationContract.functions.setLoansContractAddress(_loansContractAddress).transact();\n",
    "    check=organizationContract.functions.createLoan(_address,_loaner,_amount).transact()\t\n",
    "    return check"
   ]
  },
  {
   "cell_type": "code",
   "execution_count": 9,
   "metadata": {},
   "outputs": [],
   "source": [
    "deleteUser()"
   ]
  },
  {
   "cell_type": "code",
   "execution_count": 10,
   "metadata": {},
   "outputs": [
    {
     "name": "stdout",
     "output_type": "stream",
     "text": [
      "Enter the addrses: 0xa2D0B6dbCd04a789da44CCECA9d66B6dfc93A124\n"
     ]
    }
   ],
   "source": [
    "# Suppose bank wants to create a loan\n",
    "loanieAddress = input(\"Enter the addrses: \")\n",
    "\n",
    "### Check to see whether it is a user or organization address\n",
    "index = accountsConract.functions.getIndex(loanieAddress).call()"
   ]
  },
  {
   "cell_type": "code",
   "execution_count": 11,
   "metadata": {},
   "outputs": [
    {
     "data": {
      "text/plain": [
       "-1"
      ]
     },
     "execution_count": 11,
     "metadata": {},
     "output_type": "execute_result"
    }
   ],
   "source": [
    "index"
   ]
  },
  {
   "cell_type": "code",
   "execution_count": 12,
   "metadata": {},
   "outputs": [
    {
     "name": "stdout",
     "output_type": "stream",
     "text": [
      "This account is not registered in our system.\n"
     ]
    }
   ],
   "source": [
    "if index != -1:\n",
    "    loanieType = accountsConract.functions.getType(index).call()\n",
    "    if not loanieType:\n",
    "        #res = organizationContract.functions.createLoan(loanieAddress).call()\n",
    "        res=True\n",
    "        print(res)\n",
    "        choice=input(\"pending loans Y or N\")\n",
    "        if choice == \"Y\":\n",
    "            pendingLoans=userContract.functions.getPendingLoans().buildTransaction({'gas': 70000,'gasPrice': web3.toWei('1', 'gwei'),'from': loanieAddress,'nonce': web3.eth.getTransactionCount(loanieAddress)}) \n",
    "            private_key = input('Enter your key: ') \n",
    "            signed_txn = web3.eth.account.signTransaction({'gas': 70000,'gasPrice': web3.toWei('1', 'gwei'),'from': loanieAddress,'nonce': web3.eth.getTransactionCount(loanieAddress)}, private_key=private_key)\n",
    "            var = web3.eth.sendRawTransaction(signed_txn.rawTransaction)\n",
    "            print('Transaction Block: ', web3.eth.getTransaction(var))\n",
    "            print('Pending loan ended!')\n",
    "    else :\n",
    "        choice=input(\"create loan Y/N?\")\n",
    "        if choice==\"Y\":\n",
    "            if createLoan(web3.eth.accounts[2],web3.eth.accounts[6],1000,loansContractAddress):\n",
    "                print(\"Loan created\")\n",
    "else:\n",
    "    print(\"This account is not registered in our system.\")"
   ]
  },
  {
   "cell_type": "code",
   "execution_count": null,
   "metadata": {},
   "outputs": [],
   "source": []
  }
 ],
 "metadata": {
  "kernelspec": {
   "display_name": "Python 3.8.1 64-bit",
   "language": "python",
   "name": "python38164bit5736db31512345ee960d5073d473fb78"
  },
  "language_info": {
   "codemirror_mode": {
    "name": "ipython",
    "version": 3
   },
   "file_extension": ".py",
   "mimetype": "text/x-python",
   "name": "python",
   "nbconvert_exporter": "python",
   "pygments_lexer": "ipython3",
   "version": "3.8.2"
  }
 },
 "nbformat": 4,
 "nbformat_minor": 4
}
