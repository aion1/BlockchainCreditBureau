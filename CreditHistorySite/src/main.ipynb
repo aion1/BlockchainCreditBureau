{
 "cells": [
  {
   "cell_type": "code",
   "execution_count": 21,
   "metadata": {},
   "outputs": [],
   "source": [
    "import json\n",
    "from web3 import Web3\n",
    "import os\n",
    "import platform\n",
    "from getpass import getpass\n",
    "import random"
   ]
  },
  {
   "cell_type": "code",
   "execution_count": 22,
   "metadata": {},
   "outputs": [],
   "source": [
    "operating_system = platform.system()\n",
    "d = '/'\n",
    "if operating_system == 'Windows':\n",
    "    d = '\\\\'\n",
    "\n",
    "ganache_url = \"HTTP://127.0.0.1:7545\"\n",
    "web3 = Web3(Web3.HTTPProvider(ganache_url))\n",
    "\n",
    "# This is our main account that controls everything\n",
    "web3.eth.defaultAccount = web3.eth.accounts[0]"
   ]
  },
  {
   "cell_type": "code",
   "execution_count": 23,
   "metadata": {},
   "outputs": [
    {
     "data": {
      "text/plain": [
       "<eth_account.signers.local.LocalAccount at 0x7f0ecbbbbaf0>"
      ]
     },
     "execution_count": 23,
     "metadata": {},
     "output_type": "execute_result"
    }
   ],
   "source": [
    "new_account = web3.eth.account.create()\n",
    "new_account"
   ]
  },
  {
   "cell_type": "code",
   "execution_count": 40,
   "metadata": {},
   "outputs": [
    {
     "data": {
      "text/plain": [
       "HexBytes('0x43c6e617f7042276739e2418bf38533df97251ca21f62b61a5488a55059609ad')"
      ]
     },
     "execution_count": 40,
     "metadata": {},
     "output_type": "execute_result"
    }
   ],
   "source": [
    "new_account.privateKey"
   ]
  },
  {
   "cell_type": "code",
   "execution_count": 24,
   "metadata": {},
   "outputs": [
    {
     "data": {
      "text/plain": [
       "'0x55F16e87bb2b69A78a0b19291E5BCC8C9F7f5aD4'"
      ]
     },
     "execution_count": 24,
     "metadata": {},
     "output_type": "execute_result"
    },
    {
     "data": {
      "text/plain": [
       "{'address': 'b6ef75b96d856a6ce0c796be4a7abfb81e5d600a',\n",
       " 'crypto': {'cipher': 'aes-128-ctr',\n",
       "  'cipherparams': {'iv': 'e859050eb9b0bc84a1e12199e3cb5a7b'},\n",
       "  'ciphertext': '3b39811b1d5071128206510794a92880d682a6588672e157e449d35adcdf3dba',\n",
       "  'kdf': 'scrypt',\n",
       "  'kdfparams': {'dklen': 32,\n",
       "   'n': 262144,\n",
       "   'r': 1,\n",
       "   'p': 8,\n",
       "   'salt': 'bf6b6b8229a7e606dab2d177a0339bb9'},\n",
       "  'mac': 'fcc05038c30e181d18d68f3113209bfe4cc89551a2a7f3428a2223c3fea12e9d'},\n",
       " 'id': '8a410dd1-ba44-45f3-8584-ebc30b48b671',\n",
       " 'version': 3}"
      ]
     },
     "execution_count": 24,
     "metadata": {},
     "output_type": "execute_result"
    },
    {
     "data": {
      "text/plain": [
       "<eth_account.signers.local.LocalAccount at 0x7f0ecbb1d2e0>"
      ]
     },
     "execution_count": 24,
     "metadata": {},
     "output_type": "execute_result"
    }
   ],
   "source": [
    "new_account.address\n",
    "defaultAccPK = 'a0dd259af21c47254d99d6e22e0ac7a9b6da2ed7802a16a8cb264282e279037a'\n",
    "keystore = web3.eth.account.encrypt(defaultAccPK, 'waliedahmed')\n",
    "keystore\n",
    "originalAccount = web3.eth.account.privateKeyToAccount('8700bbbe5cc527282fc13aa85dfc9cbe2493cdaa4b87fea14c0b30ad56c129d7')\n",
    "originalAccount\n"
   ]
  },
  {
   "cell_type": "code",
   "execution_count": 25,
   "metadata": {},
   "outputs": [
    {
     "data": {
      "text/plain": [
       "HexBytes('0xa0dd259af21c47254d99d6e22e0ac7a9b6da2ed7802a16a8cb264282e279037a')"
      ]
     },
     "execution_count": 25,
     "metadata": {},
     "output_type": "execute_result"
    }
   ],
   "source": [
    "web3.eth.account.decrypt(keystore, 'waliedahmed')"
   ]
  },
  {
   "cell_type": "markdown",
   "metadata": {},
   "source": [
    "## To test sending eth to an account from another account"
   ]
  },
  {
   "cell_type": "code",
   "execution_count": 26,
   "metadata": {},
   "outputs": [
    {
     "data": {
      "text/plain": [
       "HexBytes('0xcf684f16f5e961533a6b1d38a9d2eb21ae1f36de23eba780cf8aaa4e16454eab')"
      ]
     },
     "execution_count": 26,
     "metadata": {},
     "output_type": "execute_result"
    }
   ],
   "source": [
    "signed_txn = web3.eth.account.signTransaction(dict(\n",
    "    nonce=web3.eth.getTransactionCount(web3.eth.defaultAccount),\n",
    "    gasPrice= web3.eth.gasPrice,\n",
    "    gas=100000,\n",
    "    to=new_account.address,\n",
    "    value=web3.toWei(10, 'ether')\n",
    "    ),\n",
    "    defaultAccPK)\n",
    "web3.eth.sendRawTransaction(signed_txn.rawTransaction)"
   ]
  },
  {
   "cell_type": "code",
   "execution_count": 34,
   "metadata": {},
   "outputs": [
    {
     "data": {
      "text/plain": [
       "HexBytes('0x4677e7a225a6b1099ae71ea47a1fd64b0654470fd6e8df16004c816dc08a3d2b')"
      ]
     },
     "execution_count": 34,
     "metadata": {},
     "output_type": "execute_result"
    }
   ],
   "source": [
    "accountsConract.functions.add(new_account.address, True).transact()"
   ]
  },
  {
   "cell_type": "code",
   "execution_count": 27,
   "metadata": {},
   "outputs": [],
   "source": [
    "def getContract(filename):\n",
    "    with open('..' + d + '..' + d + 'Solidity' + d + 'build' + d + 'contracts' + d + filename) as contractFile:\n",
    "        contractJson=json.load(contractFile)\n",
    "        contractABI =contractJson['abi']\n",
    "        contractAdd=web3.toChecksumAddress(contractJson['networks']['5777']['address']) \n",
    "        return contractABI, contractAdd\n",
    "\n",
    "\n",
    "\n",
    "# Get the organization contract address\n",
    "organizationContractABI, organizationContractAdd = getContract('Organization.json')\t\n",
    "organizationContract = web3.eth.contract(address=organizationContractAdd, abi=organizationContractABI)\n",
    "\n",
    "#get the user contract address\n",
    "userContractABI,userContractAdd = getContract('User.json')\n",
    "userContract = web3.eth.contract(address=userContractAdd, abi=userContractABI)\n",
    "\n",
    "# Get the accounts contract address\n",
    "accountsContractABI,accountsContractAdd = getContract('Accounts.json')\n",
    "accountsConract = web3.eth.contract(address=accountsContractAdd, abi=accountsContractABI)\n",
    "\n",
    "loansContractABI, loansContractAddress= getContract('Loans.json')\n",
    "loansContract = web3.eth.contract(address=loansContractAddress, abi=loansContractABI)"
   ]
  },
  {
   "cell_type": "code",
   "execution_count": 28,
   "metadata": {
    "scrolled": true
   },
   "outputs": [
    {
     "data": {
      "text/plain": [
       "HexBytes('0x8d2c22660cfb7b660e2a3c4fd7b5b05bd28c24295393736890ea10ae288264ba')"
      ]
     },
     "execution_count": 28,
     "metadata": {},
     "output_type": "execute_result"
    },
    {
     "data": {
      "text/plain": [
       "HexBytes('0x9b30382db09f1cd011be6a89cccccc9de84e3cbde95f6eb5121295a8896a56fa')"
      ]
     },
     "execution_count": 28,
     "metadata": {},
     "output_type": "execute_result"
    },
    {
     "data": {
      "text/plain": [
       "HexBytes('0xb430ecdc9ab2d537866640f479b0afc679029c09d9782e6ceae1000c947c6989')"
      ]
     },
     "execution_count": 28,
     "metadata": {},
     "output_type": "execute_result"
    }
   ],
   "source": [
    "# This should be changed to be a more robus way. We can give the loansContractAddress using the constructor\n",
    "# but this has problems when doing this in the 2_deploy_contracts.js\n",
    "userContract.functions.setLoansContractAddress(loansContractAddress).transact()\n",
    "organizationContract.functions.setLoansContractAddress(loansContractAddress).transact()\n",
    "loansContract.functions.setAccountsContractAddress(accountsContractAdd).transact()"
   ]
  },
  {
   "cell_type": "code",
   "execution_count": 29,
   "metadata": {},
   "outputs": [
    {
     "data": {
      "text/plain": [
       "HexBytes('0x1f679bfa3e12eb6cdb2211dc4cf871cdde1222c3b79d60d7733b8262c842ceb3')"
      ]
     },
     "execution_count": 29,
     "metadata": {},
     "output_type": "execute_result"
    },
    {
     "data": {
      "text/plain": [
       "HexBytes('0x9a37bb05c002a06d250630c231cd0f57e4a10e740a1ba398370062e532a386a1')"
      ]
     },
     "execution_count": 29,
     "metadata": {},
     "output_type": "execute_result"
    },
    {
     "data": {
      "text/plain": [
       "HexBytes('0xfa533ea85a6294a352bf6b02d7ac69db22bd09f33521a4e39df4fe4d9789377a')"
      ]
     },
     "execution_count": 29,
     "metadata": {},
     "output_type": "execute_result"
    },
    {
     "data": {
      "text/plain": [
       "HexBytes('0xa03e7f3b50eb5e275698f233c64b0dd16687d058c49825c48e88ec9f3922d4cc')"
      ]
     },
     "execution_count": 29,
     "metadata": {},
     "output_type": "execute_result"
    }
   ],
   "source": [
    "accountsConract.functions.add(web3.eth.accounts[1], False).transact()\n",
    "accountsConract.functions.add(web3.eth.accounts[2], False).transact()\n",
    "accountsConract.functions.add(web3.eth.accounts[5], True).transact()\n",
    "accountsConract.functions.add(web3.eth.accounts[6], True).transact()"
   ]
  },
  {
   "cell_type": "code",
   "execution_count": 30,
   "metadata": {},
   "outputs": [],
   "source": [
    "def deleteUser():\n",
    "    accountsConract.functions.deleteAccount(web3.eth.accounts[1]).transact()\n",
    "\n",
    "def createLoan(_loanie, _loaner, _amount, _organizationContract, _installmentsNum ,  _interest):\n",
    "    \n",
    "    transaction = _organizationContract.functions.createLoan(_loanie, _amount, _installmentsNum ,  _interest\n",
    "    ).buildTransaction({\n",
    "    'gas': 3000000,\n",
    "    'gasPrice': web3.toWei('1', 'gwei'),\n",
    "    'from': _loaner,\n",
    "    'nonce': web3.eth.getTransactionCount(_loaner)\n",
    "    }) \n",
    "    _privateKey = getpass(\"Enter the password of the organization: \")\n",
    "    signed_txn = web3.eth.account.signTransaction(transaction, private_key=_privateKey)\n",
    "    transaction_hash = web3.eth.sendRawTransaction(web3.toHex(signed_txn.rawTransaction))\n",
    "    \n",
    "    # _organizationContract.functions.createLoan(_loanie, _loaner, _amount).transact()\n",
    "    return True"
   ]
  },
  {
   "cell_type": "code",
   "execution_count": 52,
   "metadata": {},
   "outputs": [],
   "source": [
    "deleteUser()"
   ]
  },
  {
   "cell_type": "code",
   "execution_count": 31,
   "metadata": {},
   "outputs": [],
   "source": [
    "def getPendingLoans(_userContract, _loanieAddress, _privateKey):\n",
    "    transaction = _userContract.functions.getPendingLoans(\n",
    "    ).buildTransaction({\n",
    "    'gas': 300000,\n",
    "    'gasPrice': web3.toWei('1', 'gwei'),\n",
    "    'from': _loanieAddress,\n",
    "    'nonce': web3.eth.getTransactionCount(_loanieAddress)\n",
    "    }) \n",
    "    \n",
    "    signed_txn = web3.eth.account.signTransaction(transaction, private_key=_privateKey)\n",
    "    transaction_hash = web3.eth.sendRawTransaction(web3.toHex(signed_txn.rawTransaction))\n",
    "    receipt = web3.eth.getTransactionReceipt(transaction_hash)\n",
    "    rich_logs = _userContract.events.getAmounts().processReceipt(receipt)\n",
    "    event_values = rich_logs[0]['args'] # Dictionary\n",
    "    return event_values\n"
   ]
  },
  {
   "cell_type": "code",
   "execution_count": 54,
   "metadata": {},
   "outputs": [
    {
     "data": {
      "text/plain": [
       "'0xDED00A7f19D445B2c6D3ddFffbf78BB490771937'"
      ]
     },
     "execution_count": 54,
     "metadata": {},
     "output_type": "execute_result"
    }
   ],
   "source": [
    "# Suppose bank wants to create a loan\n",
    "#loaner = input(\"Enter the loaner addrses: \")\n",
    "loaner = web3.eth.accounts[5]\n",
    "loaner\n",
    "### Check to see whether it is a user or organization address\n",
    "loanerIndex = accountsConract.functions.getIndex(loaner).call()"
   ]
  },
  {
   "cell_type": "markdown",
   "metadata": {},
   "source": [
    "## Testing locally created accounts"
   ]
  },
  {
   "cell_type": "code",
   "execution_count": 37,
   "metadata": {},
   "outputs": [
    {
     "data": {
      "text/plain": [
       "'0x55F16e87bb2b69A78a0b19291E5BCC8C9F7f5aD4'"
      ]
     },
     "execution_count": 37,
     "metadata": {},
     "output_type": "execute_result"
    }
   ],
   "source": [
    "# Suppose bank wants to create a loan\n",
    "#loaner = input(\"Enter the loaner addrses: \")\n",
    "loaner = new_account.address\n",
    "loaner\n",
    "### Check to see whether it is a user or organization address\n",
    "loanerIndex = accountsConract.functions.getIndex(loaner).call()"
   ]
  },
  {
   "cell_type": "code",
   "execution_count": 38,
   "metadata": {},
   "outputs": [
    {
     "data": {
      "text/plain": [
       "'0xEE4F5078d802207d68eE9668AE6b82FCFCF7e290'"
      ]
     },
     "execution_count": 38,
     "metadata": {},
     "output_type": "execute_result"
    }
   ],
   "source": [
    "#loanie = input(\"Enter the loanie address: \")\n",
    "loanie = web3.eth.accounts[2]\n",
    "loanie\n",
    "loanieIndex = accountsConract.functions.getIndex(loanie).call()"
   ]
  },
  {
   "cell_type": "markdown",
   "metadata": {},
   "source": [
    "## Get pending loans"
   ]
  },
  {
   "cell_type": "code",
   "execution_count": 61,
   "metadata": {
    "scrolled": false
   },
   "outputs": [],
   "source": [
    "# Get pending loans using 3 separate functions\n",
    "def getPendingLoansList(_accountIndex, _userContract, _accountsContract, _loanieAddress):\n",
    "    pendingLoans = [] # 'amount loanerAddress id installmentNum interest'\n",
    "    if _accountIndex != -1:\n",
    "        loanieType = _accountsContract.functions.getType(_accountIndex).call()\n",
    "        if not loanieType:\n",
    "            privateKey = getpass(\"Enter your password: \")\n",
    "            values = getPendingLoans(_userContract, _loanieAddress, privateKey)\n",
    "            for i in range(len(values['_amounts'])):\n",
    "                string = ''\n",
    "                for key in values:\n",
    "                    string += str(values[key][i]) + ' '\n",
    "                pendingLoans.append(string)\n",
    "    else:\n",
    "        print(\"This account is not registered in our system.\")\n",
    "    return pendingLoans"
   ]
  },
  {
   "cell_type": "code",
   "execution_count": 62,
   "metadata": {},
   "outputs": [
    {
     "name": "stdout",
     "output_type": "stream",
     "text": [
      "Enter your password: ········\n"
     ]
    },
    {
     "data": {
      "text/plain": [
       "[]"
      ]
     },
     "execution_count": 62,
     "metadata": {},
     "output_type": "execute_result"
    }
   ],
   "source": [
    "getPendingLoansList(loanieIndex, userContract, accountsConract, loanie)"
   ]
  },
  {
   "cell_type": "markdown",
   "metadata": {},
   "source": [
    "## Confirm or reject loans"
   ]
  },
  {
   "cell_type": "code",
   "execution_count": 60,
   "metadata": {
    "scrolled": true
   },
   "outputs": [
    {
     "name": "stdout",
     "output_type": "stream",
     "text": [
      "Enter your password: ········\n",
      "Enter your loanie password: ········\n",
      "for id: 778039\n",
      "c/r?c\n",
      "for id: 762844\n",
      "c/r?r\n"
     ]
    }
   ],
   "source": [
    "# Confirm or reject loans\n",
    "pendingLoans = getPendingLoansList(loanieIndex, userContract, accountsConract, loanie)\n",
    "private_key = getpass('Enter your loanie password: ')\n",
    "for pendingLoan in pendingLoans:\n",
    "    print('for id: ' + pendingLoan.split(' ')[0])\n",
    "    loanId = pendingLoan.split(' ')[2]\n",
    "    choice = input('c/r?')\n",
    "    if choice == 'c':\n",
    "        transaction = userContract.functions.validateLoan(True,\n",
    "        int(loanId)).buildTransaction({\n",
    "        'gas': 1200000,\n",
    "        'gasPrice': web3.toWei('1', 'gwei'),\n",
    "        'from': loanie,\n",
    "        'nonce': web3.eth.getTransactionCount(loanie)\n",
    "        }) \n",
    "        signed_txn = web3.eth.account.signTransaction(transaction, private_key=private_key)\n",
    "        transaction_hash = web3.eth.sendRawTransaction(web3.toHex(signed_txn.rawTransaction))\n",
    "    elif choice == 'r':\n",
    "        transaction = userContract.functions.validateLoan(False,\n",
    "        int(loanId)).buildTransaction({\n",
    "        'gas': 300000,\n",
    "        'gasPrice': web3.toWei('1', 'gwei'),\n",
    "        'from': loanie,\n",
    "        'nonce': web3.eth.getTransactionCount(loanie)\n",
    "        }) \n",
    "        signed_txn = web3.eth.account.signTransaction(transaction, private_key=private_key)\n",
    "        transaction_hash = web3.eth.sendRawTransaction(web3.toHex(signed_txn.rawTransaction))\n",
    "    else:\n",
    "        print(\"Not recognized operation.\")"
   ]
  },
  {
   "cell_type": "markdown",
   "metadata": {},
   "source": [
    "# Create a new loan"
   ]
  },
  {
   "cell_type": "code",
   "execution_count": 41,
   "metadata": {
    "scrolled": false
   },
   "outputs": [
    {
     "data": {
      "text/plain": [
       "'0x55F16e87bb2b69A78a0b19291E5BCC8C9F7f5aD4'"
      ]
     },
     "execution_count": 41,
     "metadata": {},
     "output_type": "execute_result"
    },
    {
     "data": {
      "text/plain": [
       "4"
      ]
     },
     "execution_count": 41,
     "metadata": {},
     "output_type": "execute_result"
    },
    {
     "name": "stdout",
     "output_type": "stream",
     "text": [
      "Enter the password of the organization: ········\n",
      "Loan created\n"
     ]
    }
   ],
   "source": [
    "loaner\n",
    "loanerIndex\n",
    "# Create a new loan\n",
    "if loanerIndex != -1:\n",
    "    loanerType = accountsConract.functions.getType(loanerIndex).call()\n",
    "    if loanerType:\n",
    "        # We will change this to inputs later\n",
    "        amount=random.randint(1000,1000000)\n",
    "        if amount%2!=0:\n",
    "            amount+=1\n",
    "        installmentsNum=random.randint(6,15)\n",
    "        interest=random.randint(5,35)\n",
    "        amount+=(amount*interest)//100\n",
    "        if createLoan(_loanie=web3.eth.accounts[2], _loaner=loaner, _amount=amount, _organizationContract=organizationContract, _installmentsNum=installmentsNum, _interest=interest):\n",
    "            print(\"Loan created\")\n",
    "else:\n",
    "    print(\"This account is not registered in our system.\")"
   ]
  },
  {
   "cell_type": "markdown",
   "metadata": {},
   "source": [
    "## Get user loans"
   ]
  },
  {
   "cell_type": "code",
   "execution_count": 63,
   "metadata": {},
   "outputs": [],
   "source": [
    "def getLoans(_userContract, _loanieAddress, _privateKey):\n",
    "    transaction = _userContract.functions. getMyLoans(\n",
    "    ).buildTransaction({\n",
    "    'gas': 70000,\n",
    "    'gasPrice': web3.toWei('1', 'gwei'),\n",
    "    'from': _loanieAddress,\n",
    "    'nonce': web3.eth.getTransactionCount(_loanieAddress)\n",
    "    }) \n",
    "    \n",
    "    signed_txn = web3.eth.account.signTransaction(transaction, private_key=_privateKey)\n",
    "    transaction_hash = web3.eth.sendRawTransaction(web3.toHex(signed_txn.rawTransaction))\n",
    "    receipt = web3.eth.getTransactionReceipt(transaction_hash)\n",
    "    rich_logs = _userContract.events.getAmounts().processReceipt(receipt)\n",
    "    event_values = rich_logs[0]['args'] # Dictionary\n",
    "    return event_values"
   ]
  },
  {
   "cell_type": "code",
   "execution_count": 64,
   "metadata": {},
   "outputs": [],
   "source": [
    "def getLoansList(_accountIndex, _userContract, _accountsContract, _loanieAddress):\n",
    "    loans = [] # 'amount loanerAddress id'\n",
    "    if _accountIndex != -1:\n",
    "        loanieType = _accountsContract.functions.getType(_accountIndex).call()\n",
    "        if not loanieType:\n",
    "            privateKey = getpass(\"Enter your password: \")\n",
    "            values = getLoans(_userContract, _loanieAddress, privateKey)\n",
    "            for i in range(len(values['_amounts'])):\n",
    "                string = ''\n",
    "                for key in values:\n",
    "                    string += str(values[key][i]) + ' '\n",
    "                loans.append(string)\n",
    "    else:\n",
    "        print(\"This account is not registered in our system.\")\n",
    "    return loans"
   ]
  },
  {
   "cell_type": "code",
   "execution_count": 65,
   "metadata": {
    "scrolled": false
   },
   "outputs": [
    {
     "name": "stdout",
     "output_type": "stream",
     "text": [
      "Enter your password: ········\n"
     ]
    },
    {
     "data": {
      "text/plain": [
       "['778039 0xDED00A7f19D445B2c6D3ddFffbf78BB490771937 1593591550 6 5 ']"
      ]
     },
     "execution_count": 65,
     "metadata": {},
     "output_type": "execute_result"
    }
   ],
   "source": [
    "getLoansList(loanieIndex,userContract,accountsConract,loanie)"
   ]
  },
  {
   "cell_type": "code",
   "execution_count": 71,
   "metadata": {},
   "outputs": [],
   "source": [
    "def getInstallments(_loanContract, _loanieAddress, _privateKey):\n",
    "    myId = 1593591550\n",
    "    transaction = _loanContract.functions.getMyInstallments(myId\n",
    "    ).buildTransaction({\n",
    "    'gas': 300000,\n",
    "    'gasPrice': web3.toWei('1', 'gwei'),\n",
    "    'from': _loanieAddress,\n",
    "    'nonce': web3.eth.getTransactionCount(_loanieAddress)\n",
    "    }) \n",
    "    \n",
    "    signed_txn = web3.eth.account.signTransaction(transaction, private_key=_privateKey)\n",
    "    transaction_hash = web3.eth.sendRawTransaction(web3.toHex(signed_txn.rawTransaction))\n",
    "    receipt = web3.eth.getTransactionReceipt(transaction_hash)\n",
    "    rich_logs = _loanContract.events.getLoanInstallments().processReceipt(receipt)\n",
    "    event_values = rich_logs[0]['args'] # Dictionary\n",
    "    return event_values"
   ]
  },
  {
   "cell_type": "code",
   "execution_count": 72,
   "metadata": {},
   "outputs": [],
   "source": [
    "def getinstallmentsList(_accountIndex, _loanContract, _accountsContract, _loanieAddress):\n",
    "    pendingLoans = [] # 'amount payDate payoutDate paid'\n",
    "    if _accountIndex != -1:\n",
    "        loanieType = _accountsContract.functions.getType(_accountIndex).call()\n",
    "        if not loanieType:\n",
    "            privateKey = getpass(\"Enter your password: \")\n",
    "            values = getInstallments(_loanContract, _loanieAddress, privateKey)\n",
    "            for i in range(len(values['_amount'])):\n",
    "                string = ''\n",
    "                for key in values:\n",
    "                    string += str(values[key][i]) + ' '\n",
    "                pendingLoans.append(string)\n",
    "    else:\n",
    "        print(\"This account is not registered in our system.\")\n",
    "    return pendingLoans"
   ]
  },
  {
   "cell_type": "code",
   "execution_count": 73,
   "metadata": {},
   "outputs": [
    {
     "name": "stdout",
     "output_type": "stream",
     "text": [
      "Enter your password: ········\n"
     ]
    },
    {
     "data": {
      "text/plain": [
       "['129673 1596183718 0 False ',\n",
       " '129673 1598775718 0 False ',\n",
       " '129673 1601367718 0 False ',\n",
       " '129673 1603959718 0 False ',\n",
       " '129673 1606551718 0 False ',\n",
       " '129674 1609143718 0 False ']"
      ]
     },
     "execution_count": 73,
     "metadata": {},
     "output_type": "execute_result"
    }
   ],
   "source": [
    "getinstallmentsList(loanieIndex,loansContract,accountsConract,loanie)"
   ]
  },
  {
   "cell_type": "markdown",
   "metadata": {},
   "source": [
    "## Get Organization Loans"
   ]
  },
  {
   "cell_type": "code",
   "execution_count": 74,
   "metadata": {},
   "outputs": [],
   "source": [
    "def getLoanerLoans(_organizationContract, _loanerAddress, _privateKey):\n",
    "    transaction = _organizationContract.functions. getLoans( \n",
    "    ).buildTransaction({\n",
    "    'gas': 70000,\n",
    "    'gasPrice': web3.toWei('1', 'gwei'),\n",
    "    'from': _loanerAddress,\n",
    "    'nonce': web3.eth.getTransactionCount(_loanerAddress)\n",
    "    }) \n",
    "    \n",
    "    signed_txn = web3.eth.account.signTransaction(transaction, private_key=_privateKey)\n",
    "    transaction_hash = web3.eth.sendRawTransaction(web3.toHex(signed_txn.rawTransaction))\n",
    "    receipt = web3.eth.getTransactionReceipt(transaction_hash)\n",
    "    rich_logs = _organizationContract.events.getLoanerLoans().processReceipt(receipt)\n",
    "    event_values = rich_logs[0]['args'] # Dictionary\n",
    "    return event_values\n"
   ]
  },
  {
   "cell_type": "code",
   "execution_count": 75,
   "metadata": {},
   "outputs": [],
   "source": [
    "def getLoanerLoansList(_accountIndex,_organizationContract,_accountsContract, _loanerAddress):\n",
    "    loans = [] # 'amount loanerAddress id'\n",
    "    if _accountIndex != -1:\n",
    "        loanieType = _accountsContract.functions.getType(_accountIndex).call()\n",
    "        if loanieType:\n",
    "            privateKey = getpass(\"Enter your password: \")\n",
    "            values = getLoanerLoans(_organizationContract, _loanerAddress, privateKey)\n",
    "            for i in range(len(values['_amounts'])):\n",
    "                string = ''\n",
    "                for key in values:\n",
    "                    string += str(values[key][i]) + ' '\n",
    "                loans.append(string)\n",
    "    else:\n",
    "        print(\"This account is not registered in our system.\")\n",
    "    return loans"
   ]
  },
  {
   "cell_type": "code",
   "execution_count": 76,
   "metadata": {},
   "outputs": [
    {
     "name": "stdout",
     "output_type": "stream",
     "text": [
      "Enter your password: ········\n"
     ]
    },
    {
     "data": {
      "text/plain": [
       "['778039 0xDED00A7f19D445B2c6D3ddFffbf78BB490771937 1593591550 6 5 ']"
      ]
     },
     "execution_count": 76,
     "metadata": {},
     "output_type": "execute_result"
    }
   ],
   "source": [
    "getLoanerLoansList(loanerIndex,organizationContract,accountsConract,loaner)"
   ]
  },
  {
   "cell_type": "markdown",
   "metadata": {},
   "source": [
    "## Get installment for the orgianization"
   ]
  },
  {
   "cell_type": "code",
   "execution_count": 77,
   "metadata": {},
   "outputs": [],
   "source": [
    "def getLoanerInstallmentsList(_accountIndex, _loanContract, _accountsContract, _loanerAddress):\n",
    "    pendingLoans = [] # 'amount payDate payoutDate paid'\n",
    "    if _accountIndex != -1:\n",
    "        loanieType = _accountsContract.functions.getType(_accountIndex).call()\n",
    "        if loanieType:\n",
    "            privateKey = getpass(\"Enter your password: \")\n",
    "            values = getInstallments(_loanContract, _loanerAddress, privateKey)\n",
    "            for i in range(len(values['_amount'])):\n",
    "                string = ''\n",
    "                for key in values:\n",
    "                    string += str(values[key][i]) + ' '\n",
    "                pendingLoans.append(string)\n",
    "    else:\n",
    "        print(\"This account is not registered in our system.\")\n",
    "    return pendingLoans"
   ]
  },
  {
   "cell_type": "code",
   "execution_count": 82,
   "metadata": {},
   "outputs": [
    {
     "name": "stdout",
     "output_type": "stream",
     "text": [
      "Enter your password: ········\n"
     ]
    },
    {
     "data": {
      "text/plain": [
       "['129673 1596183718 1593592233 True ',\n",
       " '129673 1598775718 0 False ',\n",
       " '129673 1601367718 0 False ',\n",
       " '129673 1603959718 0 False ',\n",
       " '129673 1606551718 0 False ',\n",
       " '129674 1609143718 0 False ']"
      ]
     },
     "execution_count": 82,
     "metadata": {},
     "output_type": "execute_result"
    }
   ],
   "source": [
    "getLoanerInstallmentsList(loanerIndex,loansContract,accountsConract,loaner)"
   ]
  },
  {
   "cell_type": "markdown",
   "metadata": {},
   "source": [
    "## Confirm paid installment"
   ]
  },
  {
   "cell_type": "code",
   "execution_count": 80,
   "metadata": {},
   "outputs": [],
   "source": [
    "def confirmInstallment (_loanerIndex,_loansContract,_organizationContract,_loaner,_accountsConract):\n",
    "    \n",
    "    installments = getLoanerInstallmentsList(_loanerIndex,_loansContract,_accountsConract,_loaner)\n",
    "    print(installments)\n",
    "    choice = input(\"enter the index of installment\")\n",
    "    if int(choice) >= len (installments):\n",
    "        print(\"wrong index\")\n",
    "        return\n",
    "    myid = 1593591550\n",
    "    transaction = _organizationContract.functions.confirmInstallment(int(choice),myid\n",
    "    ).buildTransaction({\n",
    "    'gas': 400000,\n",
    "    'gasPrice': web3.toWei('1', 'gwei'),\n",
    "    'from': _loaner,\n",
    "    'nonce': web3.eth.getTransactionCount(_loaner)\n",
    "    })    \n",
    "    privateKey = getpass(\"Enter your password: \")\n",
    "    signed_txn = web3.eth.account.signTransaction(transaction, private_key=privateKey)\n",
    "    transaction_hash = web3.eth.sendRawTransaction(web3.toHex(signed_txn.rawTransaction))\n",
    "    return\n",
    "    "
   ]
  },
  {
   "cell_type": "code",
   "execution_count": 81,
   "metadata": {},
   "outputs": [
    {
     "name": "stdout",
     "output_type": "stream",
     "text": [
      "Enter your password: ········\n",
      "['129673 1596183718 0 False ', '129673 1598775718 0 False ', '129673 1601367718 0 False ', '129673 1603959718 0 False ', '129673 1606551718 0 False ', '129674 1609143718 0 False ']\n",
      "enter the index of installment0\n",
      "Enter your password: ········\n"
     ]
    }
   ],
   "source": [
    "confirmInstallment(loanerIndex,loansContract,organizationContract,loaner,accountsConract)"
   ]
  },
  {
   "cell_type": "code",
   "execution_count": null,
   "metadata": {},
   "outputs": [],
   "source": []
  }
 ],
 "metadata": {
  "kernelspec": {
   "display_name": "Python 3",
   "language": "python",
   "name": "python3"
  },
  "language_info": {
   "codemirror_mode": {
    "name": "ipython",
    "version": 3
   },
   "file_extension": ".py",
   "mimetype": "text/x-python",
   "name": "python",
   "nbconvert_exporter": "python",
   "pygments_lexer": "ipython3",
   "version": "3.8.3"
  }
 },
 "nbformat": 4,
 "nbformat_minor": 4
}
