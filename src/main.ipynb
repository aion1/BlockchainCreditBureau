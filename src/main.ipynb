{
 "cells": [
  {
   "cell_type": "code",
   "execution_count": 1,
   "metadata": {},
   "outputs": [],
   "source": [
    "import json\n",
    "from web3 import Web3\n",
    "import os\n",
    "import platform\n",
    "from getpass import getpass"
   ]
  },
  {
   "cell_type": "code",
   "execution_count": 2,
   "metadata": {},
   "outputs": [],
   "source": [
    "operating_system = platform.system()\n",
    "d = '/'\n",
    "if operating_system == 'Windows':\n",
    "    d = '\\\\'\n",
    "\n",
    "ganache_url = \"HTTP://127.0.0.1:7545\"\n",
    "web3 = Web3(Web3.HTTPProvider(ganache_url))\n",
    "\n",
    "# This is our main account that controls everything\n",
    "web3.eth.defaultAccount = web3.eth.accounts[0]"
   ]
  },
  {
   "cell_type": "code",
   "execution_count": 3,
   "metadata": {},
   "outputs": [
    {
     "data": {
      "text/plain": [
       "['0xb6ef75b96D856a6cE0C796be4a7ABfB81E5D600A',\n",
       " '0xa2D0B6dbCd04a789da44CCECA9d66B6dfc93A124',\n",
       " '0xEE4F5078d802207d68eE9668AE6b82FCFCF7e290',\n",
       " '0x9cbFF84198C1c3ed898C52Fbc0076Bf008476C4B',\n",
       " '0x18a31E094820e4C9C79a073A0927FA72635b18C7',\n",
       " '0xDED00A7f19D445B2c6D3ddFffbf78BB490771937',\n",
       " '0x37594b8C8aC1D94457C86e30dE793099CE659817',\n",
       " '0x6a1ab8E6bb7e9CC3463997FC7F38e3B3855282b5',\n",
       " '0xAfd3bB14ff7735B0D9792e5bcc9BB5e758a32ccB',\n",
       " '0x8b23fa43919cB11b9CDa04FA45B92aaA0A0Adcd8']"
      ]
     },
     "execution_count": 3,
     "metadata": {},
     "output_type": "execute_result"
    }
   ],
   "source": [
    "web3.eth.accounts"
   ]
  },
  {
   "cell_type": "code",
   "execution_count": 4,
   "metadata": {},
   "outputs": [],
   "source": [
    "def getContract(filename):\n",
    "    with open('..'+ d +'build'+ d +'contracts'+ d +filename) as contractFile:\n",
    "        contractJson=json.load(contractFile)\n",
    "        contractABI =contractJson['abi']\n",
    "        contractAdd=web3.toChecksumAddress(contractJson['networks']['5777']['address']) \n",
    "        return contractABI, contractAdd\n",
    "\n",
    "\n",
    "\n",
    "# Get the organization contract address\n",
    "organizationContractABI, organizationContractAdd = getContract('Organization.json')\t\n",
    "organizationContract = web3.eth.contract(address=organizationContractAdd, abi=organizationContractABI)\n",
    "\n",
    "#get the user contract address\n",
    "userContractABI,userContractAdd = getContract('User.json')\n",
    "userContract = web3.eth.contract(address=userContractAdd, abi=userContractABI)\n",
    "\n",
    "# Get the accounts contract address\n",
    "accountsContractABI,accountsContractAdd = getContract('Accounts.json')\n",
    "accountsConract = web3.eth.contract(address=accountsContractAdd, abi=accountsContractABI)\n",
    "\n",
    "loansContractABI, loansContractAddress= getContract('Loans.json')\n"
   ]
  },
  {
   "cell_type": "code",
   "execution_count": 49,
   "metadata": {},
   "outputs": [
    {
     "data": {
      "text/plain": [
       "HexBytes('0xf076f0a97415c3912a5f1ca81f8b173fe5948149c1815b3b85659b5e948f91da')"
      ]
     },
     "execution_count": 49,
     "metadata": {},
     "output_type": "execute_result"
    },
    {
     "data": {
      "text/plain": [
       "HexBytes('0x4c1a99eeeb76eb40f1a85e3523744be48fa3c103f033ebc0b339a878aba16a54')"
      ]
     },
     "execution_count": 49,
     "metadata": {},
     "output_type": "execute_result"
    }
   ],
   "source": [
    "# This should be changed to be a more robus way. We can give the loansContractAddress using the constructor\n",
    "# but this has problems when doing this in the 2_deploy_contracts.js\n",
    "userContract.functions.setLoansContractAddress(loansContractAddress).transact()\n",
    "organizationContract.functions.setLoansContractAddress(loansContractAddress).transact()"
   ]
  },
  {
   "cell_type": "code",
   "execution_count": 38,
   "metadata": {},
   "outputs": [
    {
     "data": {
      "text/plain": [
       "HexBytes('0xccbce479f7a7e16ee9bd8f200d60aae1b9b0a9af17dbc22103f424bb15e14026')"
      ]
     },
     "execution_count": 38,
     "metadata": {},
     "output_type": "execute_result"
    },
    {
     "data": {
      "text/plain": [
       "HexBytes('0xb66182df68fb9649f8da41ee7b3f04aff9aae3f7e0ca8f9ac53f2d9d81a7ee8f')"
      ]
     },
     "execution_count": 38,
     "metadata": {},
     "output_type": "execute_result"
    },
    {
     "data": {
      "text/plain": [
       "HexBytes('0x4ee92c0bccb10c4326dfbfb86c5b1a089b55b02b3a4bd3d55ffc68dfdf40c2f2')"
      ]
     },
     "execution_count": 38,
     "metadata": {},
     "output_type": "execute_result"
    },
    {
     "data": {
      "text/plain": [
       "HexBytes('0x23d413473c214d710d0393c62a3e60f6a2649836fb6ff7c5bd3ea8b4846492bd')"
      ]
     },
     "execution_count": 38,
     "metadata": {},
     "output_type": "execute_result"
    }
   ],
   "source": [
    "accountsConract.functions.add(web3.eth.accounts[1], False).transact()\n",
    "accountsConract.functions.add(web3.eth.accounts[2], False).transact()\n",
    "accountsConract.functions.add(web3.eth.accounts[5], True).transact()\n",
    "accountsConract.functions.add(web3.eth.accounts[6], True).transact()"
   ]
  },
  {
   "cell_type": "code",
   "execution_count": 39,
   "metadata": {},
   "outputs": [],
   "source": [
    "def deleteUser():\n",
    "    accountsConract.functions.deleteAccount(web3.eth.accounts[1]).transact()\n",
    "\n",
    "def createLoan(_address,_loaner,_amount,_loansContractAddress):\n",
    "    check=organizationContract.functions.createLoan(_address,_loaner,_amount).transact()\t\n",
    "    return check"
   ]
  },
  {
   "cell_type": "code",
   "execution_count": 49,
   "metadata": {},
   "outputs": [],
   "source": [
    "deleteUser()"
   ]
  },
  {
   "cell_type": "code",
   "execution_count": 18,
   "metadata": {},
   "outputs": [],
   "source": [
    "def getPendingLoans(_userContract, _loanieAddress, _pk=None):\n",
    "    pendingLoans = _userContract.functions.getPendingLoans().buildTransaction({'gas': 70000,'gasPrice': web3.toWei('1', 'gwei'),'from': _loanieAddress,'nonce': web3.eth.getTransactionCount(_loanieAddress)}) \n",
    "    private_key = getpass('Enter your key: ') if _pk is not None else _pk\n",
    "    test_transaction = {'gas': 70000,'gasPrice': web3.toWei('1', 'gwei'),'from': _loanieAddress,\n",
    "                        'nonce': web3.eth.getTransactionCount(_loanieAddress), 'data':pendingLoans['data']}\n",
    "    signed_txn = web3.eth.account.signTransaction(pendingLoans, private_key=private_key)\n",
    "    print(signed_txn)\n",
    "    transaction_hash = web3.eth.sendRawTransaction(signed_txn.rawTransaction)\n",
    "    print('Transaction Block: \\n', web3.eth.getTransaction(transaction_hash))\n",
    "    print('Transaction Receipt: \\n', web3.eth.getTransactionReceipt(transaction_hash))\n",
    "    print('Pending loan ended!')"
   ]
  },
  {
   "cell_type": "code",
   "execution_count": 45,
   "metadata": {},
   "outputs": [],
   "source": [
    "def getPendingLoans2(_userContract, _loanieAddress):\n",
    "    transaction = _userContract.functions.getPendingLoans(\n",
    "    ).buildTransaction({\n",
    "    'gas': 70000,\n",
    "    'gasPrice': web3.toWei('1', 'gwei'),\n",
    "    'from': _loanieAddress,\n",
    "    'nonce': web3.eth.getTransactionCount(_loanieAddress)\n",
    "    }) \n",
    "    private_key = getpass('Enter your key: ')\n",
    "    signed_txn = web3.eth.account.signTransaction(transaction, private_key=private_key)\n",
    "    print('Raw Transaction: ', signed_txn.rawTransaction)\n",
    "    print('Hex Raw Transaction: ', web3.toHex(signed_txn.rawTransaction))\n",
    "    transaction_hash = web3.eth.sendRawTransaction(web3.toHex(signed_txn.rawTransaction))\n",
    "    print(web3.toHex(transaction_hash))"
   ]
  },
  {
   "cell_type": "code",
   "execution_count": null,
   "metadata": {},
   "outputs": [],
   "source": [
    "userContract.functions.getPendingLoans({'from': web3.eth.accounts[0], 'gas':1000000, 'value': web3.toWei(0.01, \"ether\")})"
   ]
  },
  {
   "cell_type": "code",
   "execution_count": 41,
   "metadata": {},
   "outputs": [
    {
     "name": "stdout",
     "output_type": "stream",
     "text": [
      "Enter the addrses: 0xEE4F5078d802207d68eE9668AE6b82FCFCF7e290\n"
     ]
    }
   ],
   "source": [
    "# Suppose bank wants to create a loan\n",
    "loanieAddress = input(\"Enter the addrses: \")\n",
    "\n",
    "### Check to see whether it is a user or organization address\n",
    "index = accountsConract.functions.getIndex(loanieAddress).call()"
   ]
  },
  {
   "cell_type": "code",
   "execution_count": 42,
   "metadata": {},
   "outputs": [
    {
     "data": {
      "text/plain": [
       "1"
      ]
     },
     "execution_count": 42,
     "metadata": {},
     "output_type": "execute_result"
    }
   ],
   "source": [
    "index"
   ]
  },
  {
   "cell_type": "code",
   "execution_count": 10,
   "metadata": {},
   "outputs": [],
   "source": [
    "# Second index account private key\n",
    "pk = '8700bbbe5cc527282fc13aa85dfc9cbe2493cdaa4b87fea14c0b30ad56c129d7'"
   ]
  },
  {
   "cell_type": "code",
   "execution_count": 46,
   "metadata": {
    "scrolled": false
   },
   "outputs": [
    {
     "name": "stdout",
     "output_type": "stream",
     "text": [
      "True\n",
      "pending loans Y or NY\n",
      "Enter your key: ········\n",
      "Raw Transaction:  b'\\xf8j\\x1e\\x84;\\x9a\\xca\\x00\\x83\\x01\\x11p\\x94\\x80\\x03\\xbd\\x91j\\x03\\xfb\\x0bb\\xc5PevC\\xa8\\x0ea_,~\\x80\\x84\\xee$\\xafZ\\x82\\n\\x96\\xa0=\\x93\\xcf\\xcf\\x0cm\\xf7\\xa4\\xc4\\x02\\x01\\xcc\\x91\\x9e@A\\x89\\xf7\\xb94\\x8b\\xa5\\xa0\\x82\\x84\\t\\xa9\\x08/\\xd2\\xd2$\\xa0\\t\\x99L\\xee\\xedY\\x05\\xecB\\x1d%\\x05\\xdd\\x95iq\\x1f\\xe3\\x90w\\x8b\\x88\\xd8\\xb3\\xd2tR\\xec[v\\x9d\\x11'\n",
      "Hex Raw Transaction:  0xf86a1e843b9aca0083011170948003bd916a03fb0b62c550657643a80e615f2c7e8084ee24af5a820a96a03d93cfcf0c6df7a4c40201cc919e404189f7b9348ba5a0828409a9082fd2d224a009994ceeed5905ec421d2505dd9569711fe390778b88d8b3d27452ec5b769d11\n",
      "0xbd03f823229008f92792f07a85c8887cba3a86a776a7a9c6504d134dd776eca8\n"
     ]
    }
   ],
   "source": [
    "if index != -1:\n",
    "    loanieType = accountsConract.functions.getType(index).call()\n",
    "    if not loanieType:\n",
    "        #res = organizationContract.functions.createLoan(loanieAddress).call()\n",
    "        res=True\n",
    "        print(res)\n",
    "        choice=input(\"pending loans Y or N\")\n",
    "        if choice == \"Y\":\n",
    "            #getPendingLoans(userContract, loanieAddress, pk)\n",
    "            getPendingLoans2(userContract, loanieAddress)\n",
    "    else :\n",
    "        choice=input(\"create loan Y/N?\")\n",
    "        if choice==\"Y\":\n",
    "            if createLoan(web3.eth.accounts[2],web3.eth.accounts[6],1000,loansContractAddress):\n",
    "                print(\"Loan created\")\n",
    "else:\n",
    "    print(\"This account is not registered in our system.\")"
   ]
  },
  {
   "cell_type": "code",
   "execution_count": null,
   "metadata": {},
   "outputs": [],
   "source": []
  }
 ],
 "metadata": {
  "kernelspec": {
   "display_name": "Python 3.8.1 64-bit",
   "language": "python",
   "name": "python38164bit5736db31512345ee960d5073d473fb78"
  },
  "language_info": {
   "codemirror_mode": {
    "name": "ipython",
    "version": 3
   },
   "file_extension": ".py",
   "mimetype": "text/x-python",
   "name": "python",
   "nbconvert_exporter": "python",
   "pygments_lexer": "ipython3",
   "version": "3.8.2"
  }
 },
 "nbformat": 4,
 "nbformat_minor": 4
}
